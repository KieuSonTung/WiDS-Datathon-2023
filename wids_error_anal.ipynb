{
 "cells": [
  {
   "cell_type": "code",
   "execution_count": 1,
   "metadata": {
    "collapsed": true
   },
   "outputs": [],
   "source": [
    "import pandas as pd\n",
    "import numpy as np\n",
    "import matplotlib.pyplot as plt"
   ]
  },
  {
   "cell_type": "code",
   "execution_count": 2,
   "outputs": [],
   "source": [
    "submit1 = pd.read_csv('submit-0.856.csv')\n",
    "submit2 = pd.read_csv('submit-1.262.csv')"
   ],
   "metadata": {
    "collapsed": false
   }
  },
  {
   "cell_type": "code",
   "execution_count": 8,
   "outputs": [
    {
     "data": {
      "text/plain": "       contest-tmp2m-14d__tmp2m   index\n0                     29.551507  375734\n1                     29.498855  375735\n2                     29.521992  375736\n3                     29.959085  375737\n4                     29.899663  375738\n...                         ...     ...\n31349                  2.996932  407083\n31350                  3.085458  407084\n31351                  2.346873  407085\n31352                  3.289782  407086\n31353                  2.978733  407087\n\n[31354 rows x 2 columns]",
      "text/html": "<div>\n<style scoped>\n    .dataframe tbody tr th:only-of-type {\n        vertical-align: middle;\n    }\n\n    .dataframe tbody tr th {\n        vertical-align: top;\n    }\n\n    .dataframe thead th {\n        text-align: right;\n    }\n</style>\n<table border=\"1\" class=\"dataframe\">\n  <thead>\n    <tr style=\"text-align: right;\">\n      <th></th>\n      <th>contest-tmp2m-14d__tmp2m</th>\n      <th>index</th>\n    </tr>\n  </thead>\n  <tbody>\n    <tr>\n      <th>0</th>\n      <td>29.551507</td>\n      <td>375734</td>\n    </tr>\n    <tr>\n      <th>1</th>\n      <td>29.498855</td>\n      <td>375735</td>\n    </tr>\n    <tr>\n      <th>2</th>\n      <td>29.521992</td>\n      <td>375736</td>\n    </tr>\n    <tr>\n      <th>3</th>\n      <td>29.959085</td>\n      <td>375737</td>\n    </tr>\n    <tr>\n      <th>4</th>\n      <td>29.899663</td>\n      <td>375738</td>\n    </tr>\n    <tr>\n      <th>...</th>\n      <td>...</td>\n      <td>...</td>\n    </tr>\n    <tr>\n      <th>31349</th>\n      <td>2.996932</td>\n      <td>407083</td>\n    </tr>\n    <tr>\n      <th>31350</th>\n      <td>3.085458</td>\n      <td>407084</td>\n    </tr>\n    <tr>\n      <th>31351</th>\n      <td>2.346873</td>\n      <td>407085</td>\n    </tr>\n    <tr>\n      <th>31352</th>\n      <td>3.289782</td>\n      <td>407086</td>\n    </tr>\n    <tr>\n      <th>31353</th>\n      <td>2.978733</td>\n      <td>407087</td>\n    </tr>\n  </tbody>\n</table>\n<p>31354 rows × 2 columns</p>\n</div>"
     },
     "execution_count": 8,
     "metadata": {},
     "output_type": "execute_result"
    }
   ],
   "source": [
    "submit2"
   ],
   "metadata": {
    "collapsed": false
   }
  },
  {
   "cell_type": "code",
   "execution_count": 10,
   "outputs": [
    {
     "data": {
      "text/plain": "       contest-tmp2m-14d__tmp2m   index  contest-tmp2m-14d__tmp2m_2  index_2\n0                     29.540273  375734                   29.551507   375734\n1                     29.486998  375735                   29.498855   375735\n2                     29.227439  375736                   29.521992   375736\n3                     29.370673  375737                   29.959085   375737\n4                     29.553691  375738                   29.899663   375738\n...                         ...     ...                         ...      ...\n31349                  5.644368  407083                    2.996932   407083\n31350                  5.911460  407084                    3.085458   407084\n31351                  5.915983  407085                    2.346873   407085\n31352                  4.959525  407086                    3.289782   407086\n31353                  5.153698  407087                    2.978733   407087\n\n[31354 rows x 4 columns]",
      "text/html": "<div>\n<style scoped>\n    .dataframe tbody tr th:only-of-type {\n        vertical-align: middle;\n    }\n\n    .dataframe tbody tr th {\n        vertical-align: top;\n    }\n\n    .dataframe thead th {\n        text-align: right;\n    }\n</style>\n<table border=\"1\" class=\"dataframe\">\n  <thead>\n    <tr style=\"text-align: right;\">\n      <th></th>\n      <th>contest-tmp2m-14d__tmp2m</th>\n      <th>index</th>\n      <th>contest-tmp2m-14d__tmp2m_2</th>\n      <th>index_2</th>\n    </tr>\n  </thead>\n  <tbody>\n    <tr>\n      <th>0</th>\n      <td>29.540273</td>\n      <td>375734</td>\n      <td>29.551507</td>\n      <td>375734</td>\n    </tr>\n    <tr>\n      <th>1</th>\n      <td>29.486998</td>\n      <td>375735</td>\n      <td>29.498855</td>\n      <td>375735</td>\n    </tr>\n    <tr>\n      <th>2</th>\n      <td>29.227439</td>\n      <td>375736</td>\n      <td>29.521992</td>\n      <td>375736</td>\n    </tr>\n    <tr>\n      <th>3</th>\n      <td>29.370673</td>\n      <td>375737</td>\n      <td>29.959085</td>\n      <td>375737</td>\n    </tr>\n    <tr>\n      <th>4</th>\n      <td>29.553691</td>\n      <td>375738</td>\n      <td>29.899663</td>\n      <td>375738</td>\n    </tr>\n    <tr>\n      <th>...</th>\n      <td>...</td>\n      <td>...</td>\n      <td>...</td>\n      <td>...</td>\n    </tr>\n    <tr>\n      <th>31349</th>\n      <td>5.644368</td>\n      <td>407083</td>\n      <td>2.996932</td>\n      <td>407083</td>\n    </tr>\n    <tr>\n      <th>31350</th>\n      <td>5.911460</td>\n      <td>407084</td>\n      <td>3.085458</td>\n      <td>407084</td>\n    </tr>\n    <tr>\n      <th>31351</th>\n      <td>5.915983</td>\n      <td>407085</td>\n      <td>2.346873</td>\n      <td>407085</td>\n    </tr>\n    <tr>\n      <th>31352</th>\n      <td>4.959525</td>\n      <td>407086</td>\n      <td>3.289782</td>\n      <td>407086</td>\n    </tr>\n    <tr>\n      <th>31353</th>\n      <td>5.153698</td>\n      <td>407087</td>\n      <td>2.978733</td>\n      <td>407087</td>\n    </tr>\n  </tbody>\n</table>\n<p>31354 rows × 4 columns</p>\n</div>"
     },
     "execution_count": 10,
     "metadata": {},
     "output_type": "execute_result"
    }
   ],
   "source": [
    "submit2 = submit2.rename(columns={'contest-tmp2m-14d__tmp2m': 'contest-tmp2m-14d__tmp2m_2',\n",
    "                'index': 'index_2'})\n",
    "submit_total = pd.concat([submit1, submit2], axis=1)\n",
    "submit_total"
   ],
   "metadata": {
    "collapsed": false
   }
  },
  {
   "cell_type": "code",
   "execution_count": 14,
   "outputs": [
    {
     "data": {
      "text/plain": "       contest-tmp2m-14d__tmp2m   index  contest-tmp2m-14d__tmp2m_2  index_2  \\\n27937                 10.961280  403671                    5.150804   403671   \n26229                 11.733764  401963                    5.968319   401963   \n26290                 10.930837  402024                    5.192491   402024   \n24643                 12.130153  400377                    6.644503   400377   \n26168                 11.241171  401902                    5.921467   401902   \n...                         ...     ...                         ...      ...   \n17531                 13.201723  393265                   13.201540   393265   \n22351                  9.842597  398085                    9.842749   398085   \n20887                 12.269757  396621                   12.269618   396621   \n28488                 15.101028  404222                   15.101035   404222   \n12786                 17.951145  388520                   17.951138   388520   \n\n           diff  \n27937  5.810476  \n26229  5.765445  \n26290  5.738347  \n24643  5.485650  \n26168  5.319704  \n...         ...  \n17531  0.000183  \n22351  0.000152  \n20887  0.000139  \n28488  0.000007  \n12786  0.000007  \n\n[31354 rows x 5 columns]",
      "text/html": "<div>\n<style scoped>\n    .dataframe tbody tr th:only-of-type {\n        vertical-align: middle;\n    }\n\n    .dataframe tbody tr th {\n        vertical-align: top;\n    }\n\n    .dataframe thead th {\n        text-align: right;\n    }\n</style>\n<table border=\"1\" class=\"dataframe\">\n  <thead>\n    <tr style=\"text-align: right;\">\n      <th></th>\n      <th>contest-tmp2m-14d__tmp2m</th>\n      <th>index</th>\n      <th>contest-tmp2m-14d__tmp2m_2</th>\n      <th>index_2</th>\n      <th>diff</th>\n    </tr>\n  </thead>\n  <tbody>\n    <tr>\n      <th>27937</th>\n      <td>10.961280</td>\n      <td>403671</td>\n      <td>5.150804</td>\n      <td>403671</td>\n      <td>5.810476</td>\n    </tr>\n    <tr>\n      <th>26229</th>\n      <td>11.733764</td>\n      <td>401963</td>\n      <td>5.968319</td>\n      <td>401963</td>\n      <td>5.765445</td>\n    </tr>\n    <tr>\n      <th>26290</th>\n      <td>10.930837</td>\n      <td>402024</td>\n      <td>5.192491</td>\n      <td>402024</td>\n      <td>5.738347</td>\n    </tr>\n    <tr>\n      <th>24643</th>\n      <td>12.130153</td>\n      <td>400377</td>\n      <td>6.644503</td>\n      <td>400377</td>\n      <td>5.485650</td>\n    </tr>\n    <tr>\n      <th>26168</th>\n      <td>11.241171</td>\n      <td>401902</td>\n      <td>5.921467</td>\n      <td>401902</td>\n      <td>5.319704</td>\n    </tr>\n    <tr>\n      <th>...</th>\n      <td>...</td>\n      <td>...</td>\n      <td>...</td>\n      <td>...</td>\n      <td>...</td>\n    </tr>\n    <tr>\n      <th>17531</th>\n      <td>13.201723</td>\n      <td>393265</td>\n      <td>13.201540</td>\n      <td>393265</td>\n      <td>0.000183</td>\n    </tr>\n    <tr>\n      <th>22351</th>\n      <td>9.842597</td>\n      <td>398085</td>\n      <td>9.842749</td>\n      <td>398085</td>\n      <td>0.000152</td>\n    </tr>\n    <tr>\n      <th>20887</th>\n      <td>12.269757</td>\n      <td>396621</td>\n      <td>12.269618</td>\n      <td>396621</td>\n      <td>0.000139</td>\n    </tr>\n    <tr>\n      <th>28488</th>\n      <td>15.101028</td>\n      <td>404222</td>\n      <td>15.101035</td>\n      <td>404222</td>\n      <td>0.000007</td>\n    </tr>\n    <tr>\n      <th>12786</th>\n      <td>17.951145</td>\n      <td>388520</td>\n      <td>17.951138</td>\n      <td>388520</td>\n      <td>0.000007</td>\n    </tr>\n  </tbody>\n</table>\n<p>31354 rows × 5 columns</p>\n</div>"
     },
     "execution_count": 14,
     "metadata": {},
     "output_type": "execute_result"
    }
   ],
   "source": [
    "submit_total['diff'] = abs(submit_total['contest-tmp2m-14d__tmp2m'] - submit_total['contest-tmp2m-14d__tmp2m_2'])\n",
    "submit_total.sort_values('diff', ascending=False)"
   ],
   "metadata": {
    "collapsed": false
   }
  },
  {
   "cell_type": "code",
   "execution_count": 15,
   "outputs": [],
   "source": [
    "# df_test = pd.read_csv('data/test_data.csv')"
   ],
   "metadata": {
    "collapsed": false
   }
  },
  {
   "cell_type": "markdown",
   "source": [
    "## Plot distribution of train set with month 12"
   ],
   "metadata": {
    "collapsed": false
   }
  },
  {
   "cell_type": "code",
   "execution_count": 19,
   "outputs": [],
   "source": [
    "from sklearn.preprocessing import LabelEncoder"
   ],
   "metadata": {
    "collapsed": false
   }
  },
  {
   "cell_type": "code",
   "execution_count": 46,
   "outputs": [],
   "source": [
    "df_train = pd.read_csv('data/train_data.csv')\n",
    "df_test = pd.read_csv('data/test_data.csv')"
   ],
   "metadata": {
    "collapsed": false
   }
  },
  {
   "cell_type": "code",
   "execution_count": 47,
   "outputs": [],
   "source": [
    "def fill_nulls(df):\n",
    "\n",
    "    tmp = pd.DataFrame(df.isna().sum()) \\\n",
    "        .rename(columns={0: 'cnt'})\n",
    "\n",
    "    null_ls = tmp[tmp.cnt != 0].reset_index()\n",
    "\n",
    "    mean_values = {}\n",
    "\n",
    "    for i in null_ls['index']:\n",
    "        mean = df.loc[:, i].mean()\n",
    "        mean_values[i] = mean\n",
    "\n",
    "    for k, v in mean_values.items():\n",
    "        df[k].fillna(value=v, inplace=True)\n",
    "\n",
    "    return df\n",
    "\n",
    "df_train = fill_nulls(df_train)"
   ],
   "metadata": {
    "collapsed": false
   }
  },
  {
   "cell_type": "code",
   "execution_count": 48,
   "outputs": [],
   "source": [
    "def label_encoding(df_train, df_test):\n",
    "    le = LabelEncoder()\n",
    "\n",
    "    le.fit(df_train['climateregions__climateregion'])\n",
    "\n",
    "    df_train['climateregions__climateregion'] = le.transform(df_train['climateregions__climateregion'])\n",
    "    df_test['climateregions__climateregion'] = le.transform(df_test['climateregions__climateregion'])\n",
    "\n",
    "    return df_train, df_test\n",
    "\n",
    "df_train, df_test = label_encoding(df_train, df_test)"
   ],
   "metadata": {
    "collapsed": false
   }
  },
  {
   "cell_type": "code",
   "execution_count": 49,
   "outputs": [],
   "source": [
    "column_date=\"startdate\"\n",
    "\n",
    "def get_idx(lat, lon):\n",
    "    return str(round(lat, 4)) + \"_\" + str(round(lon, 4))\n",
    "\n",
    "def get_date(date, idx=0):\n",
    "    return int(date.split('/')[idx])\n",
    "\n",
    "def create_cols(df):\n",
    "    df[\"idx\"] = np.vectorize(get_idx)(df['lat'], df['lon'])\n",
    "    df[\"month\"] = np.vectorize(get_date)(df[column_date], idx=0)\n",
    "    # df[\"day\"] = np.vectorize(get_date)(df[column_date], idx=1)\n",
    "    df[\"year\"] = np.vectorize(get_date)(df[column_date], idx=2)\n",
    "\n",
    "    return df\n",
    "\n",
    "df_train = create_cols(df_train)\n",
    "df_test = create_cols(df_test)"
   ],
   "metadata": {
    "collapsed": false
   }
  },
  {
   "cell_type": "code",
   "execution_count": 50,
   "outputs": [
    {
     "data": {
      "text/plain": "   index  lat       lon startdate  contest-pevpr-sfc-gauss-14d__pevpr  \\\n0      0  0.0  0.833333    9/1/14                              237.00   \n1      1  0.0  0.833333    9/2/14                              228.90   \n2      2  0.0  0.833333    9/3/14                              220.69   \n3      3  0.0  0.833333    9/4/14                              225.28   \n4      4  0.0  0.833333    9/5/14                              237.24   \n\n   nmme0-tmp2m-34w__cancm30  nmme0-tmp2m-34w__cancm40  \\\n0                     29.02                     31.64   \n1                     29.02                     31.64   \n2                     29.02                     31.64   \n3                     29.02                     31.64   \n4                     29.02                     31.64   \n\n   nmme0-tmp2m-34w__ccsm30  nmme0-tmp2m-34w__ccsm40  nmme0-tmp2m-34w__cfsv20  \\\n0                    29.57                    30.73                    29.71   \n1                    29.57                    30.73                    29.71   \n2                    29.57                    30.73                    29.71   \n3                    29.57                    30.73                    29.71   \n4                    29.57                    30.73                    29.71   \n\n   ...  wind-vwnd-925-2010-14  wind-vwnd-925-2010-15  wind-vwnd-925-2010-16  \\\n0  ...                   9.56                  -2.03                  48.13   \n1  ...                  21.17                   4.44                  48.60   \n2  ...                  32.16                   5.01                  48.53   \n3  ...                  39.66                  -1.41                  50.59   \n4  ...                  38.62                  -5.21                  54.73   \n\n   wind-vwnd-925-2010-17  wind-vwnd-925-2010-18  wind-vwnd-925-2010-19  \\\n0                  28.09                 -13.50                  11.90   \n1                  27.41                 -23.77                  15.44   \n2                  19.21                 -33.16                  15.11   \n3                   8.29                 -37.22                  18.24   \n4                  -2.58                 -42.30                  21.91   \n\n   wind-vwnd-925-2010-20         idx  month  year  \n0                   4.58  0.0_0.8333      9    14  \n1                   3.42  0.0_0.8333      9    14  \n2                   4.82  0.0_0.8333      9    14  \n3                   9.74  0.0_0.8333      9    14  \n4                  10.95  0.0_0.8333      9    14  \n\n[5 rows x 249 columns]",
      "text/html": "<div>\n<style scoped>\n    .dataframe tbody tr th:only-of-type {\n        vertical-align: middle;\n    }\n\n    .dataframe tbody tr th {\n        vertical-align: top;\n    }\n\n    .dataframe thead th {\n        text-align: right;\n    }\n</style>\n<table border=\"1\" class=\"dataframe\">\n  <thead>\n    <tr style=\"text-align: right;\">\n      <th></th>\n      <th>index</th>\n      <th>lat</th>\n      <th>lon</th>\n      <th>startdate</th>\n      <th>contest-pevpr-sfc-gauss-14d__pevpr</th>\n      <th>nmme0-tmp2m-34w__cancm30</th>\n      <th>nmme0-tmp2m-34w__cancm40</th>\n      <th>nmme0-tmp2m-34w__ccsm30</th>\n      <th>nmme0-tmp2m-34w__ccsm40</th>\n      <th>nmme0-tmp2m-34w__cfsv20</th>\n      <th>...</th>\n      <th>wind-vwnd-925-2010-14</th>\n      <th>wind-vwnd-925-2010-15</th>\n      <th>wind-vwnd-925-2010-16</th>\n      <th>wind-vwnd-925-2010-17</th>\n      <th>wind-vwnd-925-2010-18</th>\n      <th>wind-vwnd-925-2010-19</th>\n      <th>wind-vwnd-925-2010-20</th>\n      <th>idx</th>\n      <th>month</th>\n      <th>year</th>\n    </tr>\n  </thead>\n  <tbody>\n    <tr>\n      <th>0</th>\n      <td>0</td>\n      <td>0.0</td>\n      <td>0.833333</td>\n      <td>9/1/14</td>\n      <td>237.00</td>\n      <td>29.02</td>\n      <td>31.64</td>\n      <td>29.57</td>\n      <td>30.73</td>\n      <td>29.71</td>\n      <td>...</td>\n      <td>9.56</td>\n      <td>-2.03</td>\n      <td>48.13</td>\n      <td>28.09</td>\n      <td>-13.50</td>\n      <td>11.90</td>\n      <td>4.58</td>\n      <td>0.0_0.8333</td>\n      <td>9</td>\n      <td>14</td>\n    </tr>\n    <tr>\n      <th>1</th>\n      <td>1</td>\n      <td>0.0</td>\n      <td>0.833333</td>\n      <td>9/2/14</td>\n      <td>228.90</td>\n      <td>29.02</td>\n      <td>31.64</td>\n      <td>29.57</td>\n      <td>30.73</td>\n      <td>29.71</td>\n      <td>...</td>\n      <td>21.17</td>\n      <td>4.44</td>\n      <td>48.60</td>\n      <td>27.41</td>\n      <td>-23.77</td>\n      <td>15.44</td>\n      <td>3.42</td>\n      <td>0.0_0.8333</td>\n      <td>9</td>\n      <td>14</td>\n    </tr>\n    <tr>\n      <th>2</th>\n      <td>2</td>\n      <td>0.0</td>\n      <td>0.833333</td>\n      <td>9/3/14</td>\n      <td>220.69</td>\n      <td>29.02</td>\n      <td>31.64</td>\n      <td>29.57</td>\n      <td>30.73</td>\n      <td>29.71</td>\n      <td>...</td>\n      <td>32.16</td>\n      <td>5.01</td>\n      <td>48.53</td>\n      <td>19.21</td>\n      <td>-33.16</td>\n      <td>15.11</td>\n      <td>4.82</td>\n      <td>0.0_0.8333</td>\n      <td>9</td>\n      <td>14</td>\n    </tr>\n    <tr>\n      <th>3</th>\n      <td>3</td>\n      <td>0.0</td>\n      <td>0.833333</td>\n      <td>9/4/14</td>\n      <td>225.28</td>\n      <td>29.02</td>\n      <td>31.64</td>\n      <td>29.57</td>\n      <td>30.73</td>\n      <td>29.71</td>\n      <td>...</td>\n      <td>39.66</td>\n      <td>-1.41</td>\n      <td>50.59</td>\n      <td>8.29</td>\n      <td>-37.22</td>\n      <td>18.24</td>\n      <td>9.74</td>\n      <td>0.0_0.8333</td>\n      <td>9</td>\n      <td>14</td>\n    </tr>\n    <tr>\n      <th>4</th>\n      <td>4</td>\n      <td>0.0</td>\n      <td>0.833333</td>\n      <td>9/5/14</td>\n      <td>237.24</td>\n      <td>29.02</td>\n      <td>31.64</td>\n      <td>29.57</td>\n      <td>30.73</td>\n      <td>29.71</td>\n      <td>...</td>\n      <td>38.62</td>\n      <td>-5.21</td>\n      <td>54.73</td>\n      <td>-2.58</td>\n      <td>-42.30</td>\n      <td>21.91</td>\n      <td>10.95</td>\n      <td>0.0_0.8333</td>\n      <td>9</td>\n      <td>14</td>\n    </tr>\n  </tbody>\n</table>\n<p>5 rows × 249 columns</p>\n</div>"
     },
     "execution_count": 50,
     "metadata": {},
     "output_type": "execute_result"
    }
   ],
   "source": [
    "df_train.head()"
   ],
   "metadata": {
    "collapsed": false
   }
  },
  {
   "cell_type": "code",
   "execution_count": 51,
   "outputs": [],
   "source": [
    "drop_col = pd.read_csv(\"data/correlations_with_target_greater_0.7.csv\")\n",
    "drop_col = drop_col[\"col\"].values\n",
    "drop_col = [each for each in drop_col if \"contest\" not in each and \"wind\" not in each]"
   ],
   "metadata": {
    "collapsed": false
   }
  },
  {
   "cell_type": "code",
   "execution_count": 52,
   "outputs": [],
   "source": [
    "df_train.drop(columns=drop_col, inplace=True)\n",
    "df_test.drop(columns=drop_col, inplace=True)"
   ],
   "metadata": {
    "collapsed": false
   }
  },
  {
   "cell_type": "code",
   "execution_count": 53,
   "outputs": [],
   "source": [
    "val = df_train[(df_train.month == 12) & (df_train.year == 2015)]\n",
    "train = df_train[~((df_train.month == 12) & (df_train.year == 2015))]"
   ],
   "metadata": {
    "collapsed": false
   }
  },
  {
   "cell_type": "code",
   "execution_count": null,
   "outputs": [],
   "source": [],
   "metadata": {
    "collapsed": false
   }
  }
 ],
 "metadata": {
  "kernelspec": {
   "display_name": "Python 3",
   "language": "python",
   "name": "python3"
  },
  "language_info": {
   "codemirror_mode": {
    "name": "ipython",
    "version": 2
   },
   "file_extension": ".py",
   "mimetype": "text/x-python",
   "name": "python",
   "nbconvert_exporter": "python",
   "pygments_lexer": "ipython2",
   "version": "2.7.6"
  }
 },
 "nbformat": 4,
 "nbformat_minor": 0
}
