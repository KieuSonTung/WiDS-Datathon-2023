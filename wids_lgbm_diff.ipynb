{
 "cells": [
  {
   "cell_type": "code",
   "execution_count": 23,
   "outputs": [],
   "source": [
    "import pandas as pd\n",
    "import numpy as np\n",
    "import seaborn as sns\n",
    "import matplotlib.pyplot as plt\n",
    "from sklearn.preprocessing import LabelEncoder\n",
    "from time import time\n",
    "import os\n",
    "\n",
    "from lightgbm import LGBMRegressor"
   ],
   "metadata": {
    "collapsed": false
   }
  },
  {
   "cell_type": "code",
   "execution_count": 95,
   "outputs": [],
   "source": [
    "train_url = 'data/train_data.csv'\n",
    "test_url = 'data/test_data.csv'\n",
    "\n",
    "df_train = pd.read_csv(train_url)\n",
    "df_test = pd.read_csv(test_url)"
   ],
   "metadata": {
    "collapsed": false
   }
  },
  {
   "cell_type": "markdown",
   "source": [
    "## Fill nulls"
   ],
   "metadata": {
    "collapsed": false
   }
  },
  {
   "cell_type": "code",
   "execution_count": 96,
   "outputs": [],
   "source": [
    "def fill_nulls(df):\n",
    "\n",
    "    tmp = pd.DataFrame(df.isna().sum()) \\\n",
    "        .rename(columns={0: 'cnt'})\n",
    "\n",
    "    null_ls = tmp[tmp.cnt != 0].reset_index()\n",
    "\n",
    "    mean_values = {}\n",
    "\n",
    "    for i in null_ls['index']:\n",
    "        mean = df.loc[:, i].mean()\n",
    "        mean_values[i] = mean\n",
    "\n",
    "    for k, v in mean_values.items():\n",
    "        df[k].fillna(value=v, inplace=True)\n",
    "\n",
    "fill_nulls(df_train)"
   ],
   "metadata": {
    "collapsed": false
   }
  },
  {
   "cell_type": "markdown",
   "source": [
    "## Feature Engineering"
   ],
   "metadata": {
    "collapsed": false
   }
  },
  {
   "cell_type": "code",
   "execution_count": 97,
   "outputs": [],
   "source": [
    "column_date=\"startdate\"\n",
    "\n",
    "def get_idx(lat, lon):\n",
    "    return str(round(lat, 4)) + \"_\" + str(round(lon, 4))\n",
    "\n",
    "def get_date(date, idx=0):\n",
    "    return int(date.split('/')[idx])\n",
    "\n",
    "df_train[\"idx\"] = np.vectorize(get_idx)(df_train['lat'], df_train['lon'])\n",
    "df_train[\"month\"] = np.vectorize(get_date)(df_train[column_date], idx=0)\n",
    "df_train[\"day\"] = np.vectorize(get_date)(df_train[column_date], idx=1)\n",
    "df_train[\"year\"] = np.vectorize(get_date)(df_train[column_date], idx=2)\n",
    "\n",
    "df_test[\"idx\"] = np.vectorize(get_idx)(df_test['lat'], df_test['lon'])\n",
    "df_test[\"month\"] = np.vectorize(get_date)(df_test[column_date], idx=0)\n",
    "df_test[\"day\"] = np.vectorize(get_date)(df_test[column_date], idx=1)\n",
    "df_test[\"year\"] = np.vectorize(get_date)(df_test[column_date], idx=2)"
   ],
   "metadata": {
    "collapsed": false
   }
  },
  {
   "cell_type": "code",
   "execution_count": 99,
   "outputs": [],
   "source": [
    "tmp2m_cols = [each for each in df_train.columns if 'tmp2m' in each and each != 'contest-tmp2m-14d__tmp2m']\n",
    "\n",
    "# Add a dummy column to df_test\n",
    "# df_test['contest-tmp2m-14d__tmp2m'] = 0\n",
    "\n",
    "df_train.drop(columns=tmp2m_cols, inplace=True)\n",
    "df_test.drop(columns=tmp2m_cols, inplace=True)"
   ],
   "metadata": {
    "collapsed": false
   }
  },
  {
   "cell_type": "code",
   "execution_count": 100,
   "outputs": [
    {
     "data": {
      "text/plain": "(31354, 219)"
     },
     "execution_count": 100,
     "metadata": {},
     "output_type": "execute_result"
    }
   ],
   "source": [
    "df_test.shape"
   ],
   "metadata": {
    "collapsed": false
   }
  },
  {
   "cell_type": "code",
   "execution_count": 102,
   "outputs": [
    {
     "data": {
      "text/plain": "(375734, 220)"
     },
     "execution_count": 102,
     "metadata": {},
     "output_type": "execute_result"
    }
   ],
   "source": [
    "df_train.shape"
   ],
   "metadata": {
    "collapsed": false
   }
  },
  {
   "cell_type": "markdown",
   "source": [
    "## Label Encoding"
   ],
   "metadata": {
    "collapsed": false
   }
  },
  {
   "cell_type": "code",
   "execution_count": 103,
   "outputs": [],
   "source": [
    "le = LabelEncoder()\n",
    "\n",
    "le.fit(df_train['climateregions__climateregion'])\n",
    "\n",
    "df_train['climateregions__climateregion'] = le.transform(df_train['climateregions__climateregion'])\n",
    "df_test['climateregions__climateregion'] = le.transform(df_test['climateregions__climateregion'])"
   ],
   "metadata": {
    "collapsed": false
   }
  },
  {
   "cell_type": "code",
   "execution_count": 104,
   "outputs": [
    {
     "data": {
      "text/plain": "(375734, 220)"
     },
     "execution_count": 104,
     "metadata": {},
     "output_type": "execute_result"
    }
   ],
   "source": [
    "df_train.shape"
   ],
   "metadata": {
    "collapsed": false
   }
  },
  {
   "cell_type": "code",
   "execution_count": 105,
   "outputs": [
    {
     "data": {
      "text/plain": "(31354, 219)"
     },
     "execution_count": 105,
     "metadata": {},
     "output_type": "execute_result"
    }
   ],
   "source": [
    "df_test.shape"
   ],
   "metadata": {
    "collapsed": false
   }
  },
  {
   "cell_type": "markdown",
   "source": [
    "# Calculate difference"
   ],
   "metadata": {
    "collapsed": false
   }
  },
  {
   "cell_type": "code",
   "execution_count": null,
   "outputs": [],
   "source": [
    "df_train = df_train.sort_values('startdate')\n",
    "df_test = df_test.sort_values('startdate')\n",
    "\n",
    "def cal_dif(df):\n",
    "    for col in df.columns:\n",
    "        if col not in ['idx', 'startdate', 'contest-tmp2m-14d__tmp2m', 'month', 'day', 'year', 'lat', 'lon']:\n",
    "            print(f'Processing {col}')\n",
    "            df[f'{col}_diff'] = df.groupby('idx')[col].diff()\n",
    "\n",
    "    return df\n",
    "\n",
    "df_train_diff = cal_dif(df_train)\n",
    "df_test_diff = cal_dif(df_test)"
   ],
   "metadata": {
    "collapsed": false,
    "pycharm": {
     "is_executing": true
    }
   }
  },
  {
   "cell_type": "code",
   "execution_count": 109,
   "outputs": [],
   "source": [
    "df_train_diff = df_train_diff.fillna(0)\n",
    "df_test_diff = df_test_diff.fillna(0)"
   ],
   "metadata": {
    "collapsed": false
   }
  },
  {
   "cell_type": "code",
   "execution_count": 115,
   "outputs": [],
   "source": [
    "df_train_diff.drop(columns=['idx', 'startdate'], inplace=True)\n",
    "df_test_diff.drop(columns=['idx', 'startdate'], inplace=True)"
   ],
   "metadata": {
    "collapsed": false
   }
  },
  {
   "cell_type": "markdown",
   "source": [
    "## Visualize"
   ],
   "metadata": {
    "collapsed": false
   }
  },
  {
   "cell_type": "code",
   "execution_count": 11,
   "outputs": [],
   "source": [
    "col_diff_ls = [col for col in df_train.columns if '_diff' in col]"
   ],
   "metadata": {
    "collapsed": false
   }
  },
  {
   "cell_type": "code",
   "execution_count": 50,
   "outputs": [],
   "source": [
    "# n_cols = 4\n",
    "# n_rows = len(col_diff_ls) // n_cols + (len(col_diff_ls) % n_cols != 0)\n",
    "# f, axes = plt.subplots(n_rows, n_cols, figsize=(20, 250))\n",
    "# count_cols, count_rows = 0, 0\n",
    "#\n",
    "# for col in df_train.columns:\n",
    "#     if '_diff' in col:\n",
    "#         sns.kdeplot(x=col, data=df_train, ax=axes[count_rows][count_cols])\n",
    "#         sns.kdeplot(x=col, data=df_test, ax=axes[count_rows][count_cols])\n",
    "#\n",
    "#         count_cols += 1\n",
    "#         count_rows += 1 if count_cols % n_cols == 0 else 0\n",
    "#         count_cols = count_cols % n_cols\n",
    "#\n",
    "# f.tight_layout(h_pad=6)"
   ],
   "metadata": {
    "collapsed": false
   }
  },
  {
   "cell_type": "markdown",
   "source": [
    "# Model"
   ],
   "metadata": {
    "collapsed": false
   }
  },
  {
   "cell_type": "code",
   "execution_count": 112,
   "outputs": [],
   "source": [
    "def split_x_y(df):\n",
    "    x = df.drop(columns='contest-tmp2m-14d__tmp2m')\n",
    "    y = df['contest-tmp2m-14d__tmp2m']\n",
    "\n",
    "    return x, y"
   ],
   "metadata": {
    "collapsed": false
   }
  },
  {
   "cell_type": "code",
   "execution_count": 117,
   "outputs": [
    {
     "data": {
      "text/plain": "LGBMRegressor(colsample_bytree=0.7, n_estimators=5000, n_jobs=4, subsample=0.7)"
     },
     "execution_count": 117,
     "metadata": {},
     "output_type": "execute_result"
    }
   ],
   "source": [
    "lgbm = LGBMRegressor(\n",
    "    n_estimators=5000,\n",
    "    n_jobs=4,\n",
    "    subsample=0.7,\n",
    "    colsample_bytree=0.7\n",
    ")\n",
    "\n",
    "train_x, train_y = split_x_y(df_train_diff)\n",
    "\n",
    "lgbm.fit(train_x, train_y)"
   ],
   "metadata": {
    "collapsed": false
   }
  },
  {
   "cell_type": "code",
   "execution_count": 120,
   "outputs": [],
   "source": [
    "submit = lgbm.predict(df_test_diff)"
   ],
   "metadata": {
    "collapsed": false
   }
  },
  {
   "cell_type": "code",
   "execution_count": 121,
   "outputs": [],
   "source": [
    "submit_df = pd.DataFrame({'contest-tmp2m-14d__tmp2m': submit, 'index': range(375734, 375734+len(submit))})"
   ],
   "metadata": {
    "collapsed": false
   }
  },
  {
   "cell_type": "code",
   "execution_count": 122,
   "outputs": [
    {
     "data": {
      "text/plain": "       contest-tmp2m-14d__tmp2m   index\n0                     26.457203  375734\n1                     18.998058  375735\n2                     18.539939  375736\n3                     16.396256  375737\n4                     15.826679  375738\n...                         ...     ...\n31349                 13.863253  407083\n31350                 14.078452  407084\n31351                  6.241839  407085\n31352                 10.604138  407086\n31353                 25.461887  407087\n\n[31354 rows x 2 columns]",
      "text/html": "<div>\n<style scoped>\n    .dataframe tbody tr th:only-of-type {\n        vertical-align: middle;\n    }\n\n    .dataframe tbody tr th {\n        vertical-align: top;\n    }\n\n    .dataframe thead th {\n        text-align: right;\n    }\n</style>\n<table border=\"1\" class=\"dataframe\">\n  <thead>\n    <tr style=\"text-align: right;\">\n      <th></th>\n      <th>contest-tmp2m-14d__tmp2m</th>\n      <th>index</th>\n    </tr>\n  </thead>\n  <tbody>\n    <tr>\n      <th>0</th>\n      <td>26.457203</td>\n      <td>375734</td>\n    </tr>\n    <tr>\n      <th>1</th>\n      <td>18.998058</td>\n      <td>375735</td>\n    </tr>\n    <tr>\n      <th>2</th>\n      <td>18.539939</td>\n      <td>375736</td>\n    </tr>\n    <tr>\n      <th>3</th>\n      <td>16.396256</td>\n      <td>375737</td>\n    </tr>\n    <tr>\n      <th>4</th>\n      <td>15.826679</td>\n      <td>375738</td>\n    </tr>\n    <tr>\n      <th>...</th>\n      <td>...</td>\n      <td>...</td>\n    </tr>\n    <tr>\n      <th>31349</th>\n      <td>13.863253</td>\n      <td>407083</td>\n    </tr>\n    <tr>\n      <th>31350</th>\n      <td>14.078452</td>\n      <td>407084</td>\n    </tr>\n    <tr>\n      <th>31351</th>\n      <td>6.241839</td>\n      <td>407085</td>\n    </tr>\n    <tr>\n      <th>31352</th>\n      <td>10.604138</td>\n      <td>407086</td>\n    </tr>\n    <tr>\n      <th>31353</th>\n      <td>25.461887</td>\n      <td>407087</td>\n    </tr>\n  </tbody>\n</table>\n<p>31354 rows × 2 columns</p>\n</div>"
     },
     "execution_count": 122,
     "metadata": {},
     "output_type": "execute_result"
    }
   ],
   "source": [
    "submit_df"
   ],
   "metadata": {
    "collapsed": false
   }
  },
  {
   "cell_type": "code",
   "execution_count": 125,
   "outputs": [],
   "source": [
    "submit_df.to_csv('submit.csv', index=False)"
   ],
   "metadata": {
    "collapsed": false
   }
  },
  {
   "cell_type": "code",
   "execution_count": null,
   "outputs": [],
   "source": [],
   "metadata": {
    "collapsed": false
   }
  }
 ],
 "metadata": {
  "kernelspec": {
   "display_name": "Python 3",
   "language": "python",
   "name": "python3"
  },
  "language_info": {
   "codemirror_mode": {
    "name": "ipython",
    "version": 2
   },
   "file_extension": ".py",
   "mimetype": "text/x-python",
   "name": "python",
   "nbconvert_exporter": "python",
   "pygments_lexer": "ipython2",
   "version": "2.7.6"
  }
 },
 "nbformat": 4,
 "nbformat_minor": 0
}
