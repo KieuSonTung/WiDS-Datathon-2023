{
 "metadata": {
  "kernelspec": {
   "language": "python",
   "display_name": "Python 3",
   "name": "python3"
  },
  "language_info": {
   "name": "python",
   "version": "3.7.12",
   "mimetype": "text/x-python",
   "codemirror_mode": {
    "name": "ipython",
    "version": 3
   },
   "pygments_lexer": "ipython3",
   "nbconvert_exporter": "python",
   "file_extension": ".py"
  }
 },
 "nbformat_minor": 4,
 "nbformat": 4,
 "cells": [
  {
   "cell_type": "code",
   "source": [
    "import pandas as pd\n",
    "import numpy as np\n",
    "from multiprocessing import cpu_count\n",
    "from time import time\n",
    "import matplotlib.pyplot as plt\n",
    "import os\n",
    "\n",
    "from sklearn.ensemble import GradientBoostingRegressor\n",
    "from sklearn.model_selection import train_test_split\n",
    "import xgboost as xgb\n",
    "from sklearn.preprocessing import LabelEncoder\n",
    "from lightgbm import LGBMRegressor, LGBMClassifier\n",
    "from sklearn.model_selection import cross_val_predict\n",
    "from sklearn.metrics import roc_auc_score, precision_score"
   ],
   "metadata": {
    "_uuid": "8f2839f25d086af736a60e9eeb907d3b93b6e0e5",
    "_cell_guid": "b1076dfc-b9ad-4769-8c92-a6c4dae69d19",
    "execution": {
     "iopub.status.busy": "2023-01-10T06:40:26.572227Z",
     "iopub.execute_input": "2023-01-10T06:40:26.573208Z",
     "iopub.status.idle": "2023-01-10T06:40:26.603306Z",
     "shell.execute_reply.started": "2023-01-10T06:40:26.573108Z",
     "shell.execute_reply": "2023-01-10T06:40:26.602261Z"
    },
    "trusted": true
   },
   "execution_count": 13,
   "outputs": []
  },
  {
   "cell_type": "code",
   "execution_count": 14,
   "outputs": [
    {
     "data": {
      "text/plain": "'/Users/kieusontung/SonTung/WiDS'"
     },
     "execution_count": 14,
     "metadata": {},
     "output_type": "execute_result"
    }
   ],
   "source": [
    "os.getcwd()"
   ],
   "metadata": {
    "collapsed": false
   }
  },
  {
   "cell_type": "markdown",
   "source": [
    "# Load data"
   ],
   "metadata": {
    "collapsed": false
   }
  },
  {
   "cell_type": "code",
   "execution_count": 15,
   "outputs": [
    {
     "data": {
      "text/plain": "         index  lat       lon startdate  contest-pevpr-sfc-gauss-14d__pevpr  \\\n0            0  0.0  0.833333    9/1/14                              237.00   \n1            1  0.0  0.833333    9/2/14                              228.90   \n2            2  0.0  0.833333    9/3/14                              220.69   \n3            3  0.0  0.833333    9/4/14                              225.28   \n4            4  0.0  0.833333    9/5/14                              237.24   \n...        ...  ...       ...       ...                                 ...   \n375729  375729  1.0  0.866667   8/27/16                              312.05   \n375730  375730  1.0  0.866667   8/28/16                              305.82   \n375731  375731  1.0  0.866667   8/29/16                              311.62   \n375732  375732  1.0  0.866667   8/30/16                              304.54   \n375733  375733  1.0  0.866667   8/31/16                              295.29   \n\n        nmme0-tmp2m-34w__cancm30  nmme0-tmp2m-34w__cancm40  \\\n0                          29.02                     31.64   \n1                          29.02                     31.64   \n2                          29.02                     31.64   \n3                          29.02                     31.64   \n4                          29.02                     31.64   \n...                          ...                       ...   \n375729                     23.13                     27.20   \n375730                     23.13                     27.20   \n375731                     23.13                     27.20   \n375732                     23.13                     27.20   \n375733                     23.13                     27.20   \n\n        nmme0-tmp2m-34w__ccsm30  nmme0-tmp2m-34w__ccsm40  \\\n0                         29.57                    30.73   \n1                         29.57                    30.73   \n2                         29.57                    30.73   \n3                         29.57                    30.73   \n4                         29.57                    30.73   \n...                         ...                      ...   \n375729                    20.25                    24.43   \n375730                    20.25                    24.43   \n375731                    20.25                    24.43   \n375732                    20.25                    24.43   \n375733                    20.25                    24.43   \n\n        nmme0-tmp2m-34w__cfsv20  ...  wind-vwnd-925-2010-11  \\\n0                         29.71  ...                 -27.68   \n1                         29.71  ...                 -21.13   \n2                         29.71  ...                 -10.72   \n3                         29.71  ...                   0.33   \n4                         29.71  ...                   9.83   \n...                         ...  ...                    ...   \n375729                    18.35  ...                 -15.64   \n375730                    18.35  ...                  -7.59   \n375731                    18.35  ...                  -6.25   \n375732                    18.35  ...                  -7.16   \n375733                    18.35  ...                 -12.36   \n\n        wind-vwnd-925-2010-12  wind-vwnd-925-2010-13  wind-vwnd-925-2010-14  \\\n0                      -37.21                   8.32                   9.56   \n1                      -36.57                   8.77                  21.17   \n2                      -34.16                   6.99                  32.16   \n3                      -31.04                   6.17                  39.66   \n4                      -31.80                   7.47                  38.62   \n...                       ...                    ...                    ...   \n375729                 -75.68                  -3.09                   6.93   \n375730                 -76.42                 -13.55                  13.36   \n375731                 -70.65                 -23.93                  22.62   \n375732                 -57.67                 -33.55                  32.06   \n375733                 -44.67                 -32.46                  36.25   \n\n        wind-vwnd-925-2010-15  wind-vwnd-925-2010-16  wind-vwnd-925-2010-17  \\\n0                       -2.03                  48.13                  28.09   \n1                        4.44                  48.60                  27.41   \n2                        5.01                  48.53                  19.21   \n3                       -1.41                  50.59                   8.29   \n4                       -5.21                  54.73                  -2.58   \n...                       ...                    ...                    ...   \n375729                 -16.69                  16.98                 -13.85   \n375730                 -15.96                  20.45                 -16.36   \n375731                 -16.71                  20.28                 -15.48   \n375732                 -16.07                  16.60                 -20.61   \n375733                 -12.72                  15.98                 -22.56   \n\n        wind-vwnd-925-2010-18  wind-vwnd-925-2010-19  wind-vwnd-925-2010-20  \n0                      -13.50                  11.90                   4.58  \n1                      -23.77                  15.44                   3.42  \n2                      -33.16                  15.11                   4.82  \n3                      -37.22                  18.24                   9.74  \n4                      -42.30                  21.91                  10.95  \n...                       ...                    ...                    ...  \n375729                  50.25                 -31.33                   0.77  \n375730                  51.65                 -30.73                  10.10  \n375731                  48.58                 -18.74                   9.28  \n375732                  39.23                 -16.26                  -0.22  \n375733                  32.53                 -21.89                  -1.20  \n\n[375734 rows x 246 columns]",
      "text/html": "<div>\n<style scoped>\n    .dataframe tbody tr th:only-of-type {\n        vertical-align: middle;\n    }\n\n    .dataframe tbody tr th {\n        vertical-align: top;\n    }\n\n    .dataframe thead th {\n        text-align: right;\n    }\n</style>\n<table border=\"1\" class=\"dataframe\">\n  <thead>\n    <tr style=\"text-align: right;\">\n      <th></th>\n      <th>index</th>\n      <th>lat</th>\n      <th>lon</th>\n      <th>startdate</th>\n      <th>contest-pevpr-sfc-gauss-14d__pevpr</th>\n      <th>nmme0-tmp2m-34w__cancm30</th>\n      <th>nmme0-tmp2m-34w__cancm40</th>\n      <th>nmme0-tmp2m-34w__ccsm30</th>\n      <th>nmme0-tmp2m-34w__ccsm40</th>\n      <th>nmme0-tmp2m-34w__cfsv20</th>\n      <th>...</th>\n      <th>wind-vwnd-925-2010-11</th>\n      <th>wind-vwnd-925-2010-12</th>\n      <th>wind-vwnd-925-2010-13</th>\n      <th>wind-vwnd-925-2010-14</th>\n      <th>wind-vwnd-925-2010-15</th>\n      <th>wind-vwnd-925-2010-16</th>\n      <th>wind-vwnd-925-2010-17</th>\n      <th>wind-vwnd-925-2010-18</th>\n      <th>wind-vwnd-925-2010-19</th>\n      <th>wind-vwnd-925-2010-20</th>\n    </tr>\n  </thead>\n  <tbody>\n    <tr>\n      <th>0</th>\n      <td>0</td>\n      <td>0.0</td>\n      <td>0.833333</td>\n      <td>9/1/14</td>\n      <td>237.00</td>\n      <td>29.02</td>\n      <td>31.64</td>\n      <td>29.57</td>\n      <td>30.73</td>\n      <td>29.71</td>\n      <td>...</td>\n      <td>-27.68</td>\n      <td>-37.21</td>\n      <td>8.32</td>\n      <td>9.56</td>\n      <td>-2.03</td>\n      <td>48.13</td>\n      <td>28.09</td>\n      <td>-13.50</td>\n      <td>11.90</td>\n      <td>4.58</td>\n    </tr>\n    <tr>\n      <th>1</th>\n      <td>1</td>\n      <td>0.0</td>\n      <td>0.833333</td>\n      <td>9/2/14</td>\n      <td>228.90</td>\n      <td>29.02</td>\n      <td>31.64</td>\n      <td>29.57</td>\n      <td>30.73</td>\n      <td>29.71</td>\n      <td>...</td>\n      <td>-21.13</td>\n      <td>-36.57</td>\n      <td>8.77</td>\n      <td>21.17</td>\n      <td>4.44</td>\n      <td>48.60</td>\n      <td>27.41</td>\n      <td>-23.77</td>\n      <td>15.44</td>\n      <td>3.42</td>\n    </tr>\n    <tr>\n      <th>2</th>\n      <td>2</td>\n      <td>0.0</td>\n      <td>0.833333</td>\n      <td>9/3/14</td>\n      <td>220.69</td>\n      <td>29.02</td>\n      <td>31.64</td>\n      <td>29.57</td>\n      <td>30.73</td>\n      <td>29.71</td>\n      <td>...</td>\n      <td>-10.72</td>\n      <td>-34.16</td>\n      <td>6.99</td>\n      <td>32.16</td>\n      <td>5.01</td>\n      <td>48.53</td>\n      <td>19.21</td>\n      <td>-33.16</td>\n      <td>15.11</td>\n      <td>4.82</td>\n    </tr>\n    <tr>\n      <th>3</th>\n      <td>3</td>\n      <td>0.0</td>\n      <td>0.833333</td>\n      <td>9/4/14</td>\n      <td>225.28</td>\n      <td>29.02</td>\n      <td>31.64</td>\n      <td>29.57</td>\n      <td>30.73</td>\n      <td>29.71</td>\n      <td>...</td>\n      <td>0.33</td>\n      <td>-31.04</td>\n      <td>6.17</td>\n      <td>39.66</td>\n      <td>-1.41</td>\n      <td>50.59</td>\n      <td>8.29</td>\n      <td>-37.22</td>\n      <td>18.24</td>\n      <td>9.74</td>\n    </tr>\n    <tr>\n      <th>4</th>\n      <td>4</td>\n      <td>0.0</td>\n      <td>0.833333</td>\n      <td>9/5/14</td>\n      <td>237.24</td>\n      <td>29.02</td>\n      <td>31.64</td>\n      <td>29.57</td>\n      <td>30.73</td>\n      <td>29.71</td>\n      <td>...</td>\n      <td>9.83</td>\n      <td>-31.80</td>\n      <td>7.47</td>\n      <td>38.62</td>\n      <td>-5.21</td>\n      <td>54.73</td>\n      <td>-2.58</td>\n      <td>-42.30</td>\n      <td>21.91</td>\n      <td>10.95</td>\n    </tr>\n    <tr>\n      <th>...</th>\n      <td>...</td>\n      <td>...</td>\n      <td>...</td>\n      <td>...</td>\n      <td>...</td>\n      <td>...</td>\n      <td>...</td>\n      <td>...</td>\n      <td>...</td>\n      <td>...</td>\n      <td>...</td>\n      <td>...</td>\n      <td>...</td>\n      <td>...</td>\n      <td>...</td>\n      <td>...</td>\n      <td>...</td>\n      <td>...</td>\n      <td>...</td>\n      <td>...</td>\n      <td>...</td>\n    </tr>\n    <tr>\n      <th>375729</th>\n      <td>375729</td>\n      <td>1.0</td>\n      <td>0.866667</td>\n      <td>8/27/16</td>\n      <td>312.05</td>\n      <td>23.13</td>\n      <td>27.20</td>\n      <td>20.25</td>\n      <td>24.43</td>\n      <td>18.35</td>\n      <td>...</td>\n      <td>-15.64</td>\n      <td>-75.68</td>\n      <td>-3.09</td>\n      <td>6.93</td>\n      <td>-16.69</td>\n      <td>16.98</td>\n      <td>-13.85</td>\n      <td>50.25</td>\n      <td>-31.33</td>\n      <td>0.77</td>\n    </tr>\n    <tr>\n      <th>375730</th>\n      <td>375730</td>\n      <td>1.0</td>\n      <td>0.866667</td>\n      <td>8/28/16</td>\n      <td>305.82</td>\n      <td>23.13</td>\n      <td>27.20</td>\n      <td>20.25</td>\n      <td>24.43</td>\n      <td>18.35</td>\n      <td>...</td>\n      <td>-7.59</td>\n      <td>-76.42</td>\n      <td>-13.55</td>\n      <td>13.36</td>\n      <td>-15.96</td>\n      <td>20.45</td>\n      <td>-16.36</td>\n      <td>51.65</td>\n      <td>-30.73</td>\n      <td>10.10</td>\n    </tr>\n    <tr>\n      <th>375731</th>\n      <td>375731</td>\n      <td>1.0</td>\n      <td>0.866667</td>\n      <td>8/29/16</td>\n      <td>311.62</td>\n      <td>23.13</td>\n      <td>27.20</td>\n      <td>20.25</td>\n      <td>24.43</td>\n      <td>18.35</td>\n      <td>...</td>\n      <td>-6.25</td>\n      <td>-70.65</td>\n      <td>-23.93</td>\n      <td>22.62</td>\n      <td>-16.71</td>\n      <td>20.28</td>\n      <td>-15.48</td>\n      <td>48.58</td>\n      <td>-18.74</td>\n      <td>9.28</td>\n    </tr>\n    <tr>\n      <th>375732</th>\n      <td>375732</td>\n      <td>1.0</td>\n      <td>0.866667</td>\n      <td>8/30/16</td>\n      <td>304.54</td>\n      <td>23.13</td>\n      <td>27.20</td>\n      <td>20.25</td>\n      <td>24.43</td>\n      <td>18.35</td>\n      <td>...</td>\n      <td>-7.16</td>\n      <td>-57.67</td>\n      <td>-33.55</td>\n      <td>32.06</td>\n      <td>-16.07</td>\n      <td>16.60</td>\n      <td>-20.61</td>\n      <td>39.23</td>\n      <td>-16.26</td>\n      <td>-0.22</td>\n    </tr>\n    <tr>\n      <th>375733</th>\n      <td>375733</td>\n      <td>1.0</td>\n      <td>0.866667</td>\n      <td>8/31/16</td>\n      <td>295.29</td>\n      <td>23.13</td>\n      <td>27.20</td>\n      <td>20.25</td>\n      <td>24.43</td>\n      <td>18.35</td>\n      <td>...</td>\n      <td>-12.36</td>\n      <td>-44.67</td>\n      <td>-32.46</td>\n      <td>36.25</td>\n      <td>-12.72</td>\n      <td>15.98</td>\n      <td>-22.56</td>\n      <td>32.53</td>\n      <td>-21.89</td>\n      <td>-1.20</td>\n    </tr>\n  </tbody>\n</table>\n<p>375734 rows × 246 columns</p>\n</div>"
     },
     "execution_count": 15,
     "metadata": {},
     "output_type": "execute_result"
    }
   ],
   "source": [
    "train = pd.read_csv('data/train_data.csv')\n",
    "test = pd.read_csv('data/test_data.csv')\n",
    "\n",
    "train"
   ],
   "metadata": {
    "collapsed": false
   }
  },
  {
   "cell_type": "code",
   "source": [
    "for col in train.columns:\n",
    "    print(col)"
   ],
   "metadata": {
    "scrolled": true,
    "execution": {
     "iopub.status.busy": "2023-01-10T06:40:52.954622Z",
     "iopub.execute_input": "2023-01-10T06:40:52.955242Z",
     "iopub.status.idle": "2023-01-10T06:40:52.963836Z",
     "shell.execute_reply.started": "2023-01-10T06:40:52.955207Z",
     "shell.execute_reply": "2023-01-10T06:40:52.962666Z"
    },
    "trusted": true
   },
   "execution_count": 16,
   "outputs": [
    {
     "name": "stdout",
     "output_type": "stream",
     "text": [
      "index\n",
      "lat\n",
      "lon\n",
      "startdate\n",
      "contest-pevpr-sfc-gauss-14d__pevpr\n",
      "nmme0-tmp2m-34w__cancm30\n",
      "nmme0-tmp2m-34w__cancm40\n",
      "nmme0-tmp2m-34w__ccsm30\n",
      "nmme0-tmp2m-34w__ccsm40\n",
      "nmme0-tmp2m-34w__cfsv20\n",
      "nmme0-tmp2m-34w__gfdlflora0\n",
      "nmme0-tmp2m-34w__gfdlflorb0\n",
      "nmme0-tmp2m-34w__gfdl0\n",
      "nmme0-tmp2m-34w__nasa0\n",
      "nmme0-tmp2m-34w__nmme0mean\n",
      "contest-wind-h10-14d__wind-hgt-10\n",
      "nmme-tmp2m-56w__cancm3\n",
      "nmme-tmp2m-56w__cancm4\n",
      "nmme-tmp2m-56w__ccsm3\n",
      "nmme-tmp2m-56w__ccsm4\n",
      "nmme-tmp2m-56w__cfsv2\n",
      "nmme-tmp2m-56w__gfdl\n",
      "nmme-tmp2m-56w__gfdlflora\n",
      "nmme-tmp2m-56w__gfdlflorb\n",
      "nmme-tmp2m-56w__nasa\n",
      "nmme-tmp2m-56w__nmmemean\n",
      "contest-rhum-sig995-14d__rhum\n",
      "nmme-prate-34w__cancm3\n",
      "nmme-prate-34w__cancm4\n",
      "nmme-prate-34w__ccsm3\n",
      "nmme-prate-34w__ccsm4\n",
      "nmme-prate-34w__cfsv2\n",
      "nmme-prate-34w__gfdl\n",
      "nmme-prate-34w__gfdlflora\n",
      "nmme-prate-34w__gfdlflorb\n",
      "nmme-prate-34w__nasa\n",
      "nmme-prate-34w__nmmemean\n",
      "contest-wind-h100-14d__wind-hgt-100\n",
      "nmme0-prate-56w__cancm30\n",
      "nmme0-prate-56w__cancm40\n",
      "nmme0-prate-56w__ccsm30\n",
      "nmme0-prate-56w__ccsm40\n",
      "nmme0-prate-56w__cfsv20\n",
      "nmme0-prate-56w__gfdlflora0\n",
      "nmme0-prate-56w__gfdlflorb0\n",
      "nmme0-prate-56w__gfdl0\n",
      "nmme0-prate-56w__nasa0\n",
      "nmme0-prate-56w__nmme0mean\n",
      "nmme0-prate-34w__cancm30\n",
      "nmme0-prate-34w__cancm40\n",
      "nmme0-prate-34w__ccsm30\n",
      "nmme0-prate-34w__ccsm40\n",
      "nmme0-prate-34w__cfsv20\n",
      "nmme0-prate-34w__gfdlflora0\n",
      "nmme0-prate-34w__gfdlflorb0\n",
      "nmme0-prate-34w__gfdl0\n",
      "nmme0-prate-34w__nasa0\n",
      "nmme0-prate-34w__nmme0mean\n",
      "contest-tmp2m-14d__tmp2m\n",
      "contest-slp-14d__slp\n",
      "contest-wind-vwnd-925-14d__wind-vwnd-925\n",
      "nmme-prate-56w__cancm3\n",
      "nmme-prate-56w__cancm4\n",
      "nmme-prate-56w__ccsm3\n",
      "nmme-prate-56w__ccsm4\n",
      "nmme-prate-56w__cfsv2\n",
      "nmme-prate-56w__gfdl\n",
      "nmme-prate-56w__gfdlflora\n",
      "nmme-prate-56w__gfdlflorb\n",
      "nmme-prate-56w__nasa\n",
      "nmme-prate-56w__nmmemean\n",
      "contest-pres-sfc-gauss-14d__pres\n",
      "contest-wind-uwnd-250-14d__wind-uwnd-250\n",
      "nmme-tmp2m-34w__cancm3\n",
      "nmme-tmp2m-34w__cancm4\n",
      "nmme-tmp2m-34w__ccsm3\n",
      "nmme-tmp2m-34w__ccsm4\n",
      "nmme-tmp2m-34w__cfsv2\n",
      "nmme-tmp2m-34w__gfdl\n",
      "nmme-tmp2m-34w__gfdlflora\n",
      "nmme-tmp2m-34w__gfdlflorb\n",
      "nmme-tmp2m-34w__nasa\n",
      "nmme-tmp2m-34w__nmmemean\n",
      "contest-prwtr-eatm-14d__prwtr\n",
      "contest-wind-vwnd-250-14d__wind-vwnd-250\n",
      "contest-precip-14d__precip\n",
      "contest-wind-h850-14d__wind-hgt-850\n",
      "contest-wind-uwnd-925-14d__wind-uwnd-925\n",
      "contest-wind-h500-14d__wind-hgt-500\n",
      "cancm30\n",
      "cancm40\n",
      "ccsm30\n",
      "ccsm40\n",
      "cfsv20\n",
      "gfdlflora0\n",
      "gfdlflorb0\n",
      "gfdl0\n",
      "nasa0\n",
      "nmme0mean\n",
      "climateregions__climateregion\n",
      "elevation__elevation\n",
      "wind-vwnd-250-2010-1\n",
      "wind-vwnd-250-2010-2\n",
      "wind-vwnd-250-2010-3\n",
      "wind-vwnd-250-2010-4\n",
      "wind-vwnd-250-2010-5\n",
      "wind-vwnd-250-2010-6\n",
      "wind-vwnd-250-2010-7\n",
      "wind-vwnd-250-2010-8\n",
      "wind-vwnd-250-2010-9\n",
      "wind-vwnd-250-2010-10\n",
      "wind-vwnd-250-2010-11\n",
      "wind-vwnd-250-2010-12\n",
      "wind-vwnd-250-2010-13\n",
      "wind-vwnd-250-2010-14\n",
      "wind-vwnd-250-2010-15\n",
      "wind-vwnd-250-2010-16\n",
      "wind-vwnd-250-2010-17\n",
      "wind-vwnd-250-2010-18\n",
      "wind-vwnd-250-2010-19\n",
      "wind-vwnd-250-2010-20\n",
      "wind-uwnd-250-2010-1\n",
      "wind-uwnd-250-2010-2\n",
      "wind-uwnd-250-2010-3\n",
      "wind-uwnd-250-2010-4\n",
      "wind-uwnd-250-2010-5\n",
      "wind-uwnd-250-2010-6\n",
      "wind-uwnd-250-2010-7\n",
      "wind-uwnd-250-2010-8\n",
      "wind-uwnd-250-2010-9\n",
      "wind-uwnd-250-2010-10\n",
      "wind-uwnd-250-2010-11\n",
      "wind-uwnd-250-2010-12\n",
      "wind-uwnd-250-2010-13\n",
      "wind-uwnd-250-2010-14\n",
      "wind-uwnd-250-2010-15\n",
      "wind-uwnd-250-2010-16\n",
      "wind-uwnd-250-2010-17\n",
      "wind-uwnd-250-2010-18\n",
      "wind-uwnd-250-2010-19\n",
      "wind-uwnd-250-2010-20\n",
      "mjo1d__phase\n",
      "mjo1d__amplitude\n",
      "mei__mei\n",
      "mei__meirank\n",
      "mei__nip\n",
      "wind-hgt-850-2010-1\n",
      "wind-hgt-850-2010-2\n",
      "wind-hgt-850-2010-3\n",
      "wind-hgt-850-2010-4\n",
      "wind-hgt-850-2010-5\n",
      "wind-hgt-850-2010-6\n",
      "wind-hgt-850-2010-7\n",
      "wind-hgt-850-2010-8\n",
      "wind-hgt-850-2010-9\n",
      "wind-hgt-850-2010-10\n",
      "sst-2010-1\n",
      "sst-2010-2\n",
      "sst-2010-3\n",
      "sst-2010-4\n",
      "sst-2010-5\n",
      "sst-2010-6\n",
      "sst-2010-7\n",
      "sst-2010-8\n",
      "sst-2010-9\n",
      "sst-2010-10\n",
      "wind-hgt-500-2010-1\n",
      "wind-hgt-500-2010-2\n",
      "wind-hgt-500-2010-3\n",
      "wind-hgt-500-2010-4\n",
      "wind-hgt-500-2010-5\n",
      "wind-hgt-500-2010-6\n",
      "wind-hgt-500-2010-7\n",
      "wind-hgt-500-2010-8\n",
      "wind-hgt-500-2010-9\n",
      "wind-hgt-500-2010-10\n",
      "icec-2010-1\n",
      "icec-2010-2\n",
      "icec-2010-3\n",
      "icec-2010-4\n",
      "icec-2010-5\n",
      "icec-2010-6\n",
      "icec-2010-7\n",
      "icec-2010-8\n",
      "icec-2010-9\n",
      "icec-2010-10\n",
      "wind-uwnd-925-2010-1\n",
      "wind-uwnd-925-2010-2\n",
      "wind-uwnd-925-2010-3\n",
      "wind-uwnd-925-2010-4\n",
      "wind-uwnd-925-2010-5\n",
      "wind-uwnd-925-2010-6\n",
      "wind-uwnd-925-2010-7\n",
      "wind-uwnd-925-2010-8\n",
      "wind-uwnd-925-2010-9\n",
      "wind-uwnd-925-2010-10\n",
      "wind-uwnd-925-2010-11\n",
      "wind-uwnd-925-2010-12\n",
      "wind-uwnd-925-2010-13\n",
      "wind-uwnd-925-2010-14\n",
      "wind-uwnd-925-2010-15\n",
      "wind-uwnd-925-2010-16\n",
      "wind-uwnd-925-2010-17\n",
      "wind-uwnd-925-2010-18\n",
      "wind-uwnd-925-2010-19\n",
      "wind-uwnd-925-2010-20\n",
      "wind-hgt-10-2010-1\n",
      "wind-hgt-10-2010-2\n",
      "wind-hgt-10-2010-3\n",
      "wind-hgt-10-2010-4\n",
      "wind-hgt-10-2010-5\n",
      "wind-hgt-10-2010-6\n",
      "wind-hgt-10-2010-7\n",
      "wind-hgt-10-2010-8\n",
      "wind-hgt-10-2010-9\n",
      "wind-hgt-10-2010-10\n",
      "wind-hgt-100-2010-1\n",
      "wind-hgt-100-2010-2\n",
      "wind-hgt-100-2010-3\n",
      "wind-hgt-100-2010-4\n",
      "wind-hgt-100-2010-5\n",
      "wind-hgt-100-2010-6\n",
      "wind-hgt-100-2010-7\n",
      "wind-hgt-100-2010-8\n",
      "wind-hgt-100-2010-9\n",
      "wind-hgt-100-2010-10\n",
      "wind-vwnd-925-2010-1\n",
      "wind-vwnd-925-2010-2\n",
      "wind-vwnd-925-2010-3\n",
      "wind-vwnd-925-2010-4\n",
      "wind-vwnd-925-2010-5\n",
      "wind-vwnd-925-2010-6\n",
      "wind-vwnd-925-2010-7\n",
      "wind-vwnd-925-2010-8\n",
      "wind-vwnd-925-2010-9\n",
      "wind-vwnd-925-2010-10\n",
      "wind-vwnd-925-2010-11\n",
      "wind-vwnd-925-2010-12\n",
      "wind-vwnd-925-2010-13\n",
      "wind-vwnd-925-2010-14\n",
      "wind-vwnd-925-2010-15\n",
      "wind-vwnd-925-2010-16\n",
      "wind-vwnd-925-2010-17\n",
      "wind-vwnd-925-2010-18\n",
      "wind-vwnd-925-2010-19\n",
      "wind-vwnd-925-2010-20\n"
     ]
    }
   ]
  },
  {
   "cell_type": "code",
   "source": [
    "tmp = pd.DataFrame(train.dtypes) \\\n",
    "        .rename(columns={0: 'type'})\n",
    "\n",
    "tmp[tmp['type'] != 'float64']"
   ],
   "metadata": {
    "execution": {
     "iopub.status.busy": "2023-01-10T07:05:03.105227Z",
     "iopub.execute_input": "2023-01-10T07:05:03.105682Z",
     "iopub.status.idle": "2023-01-10T07:05:03.118977Z",
     "shell.execute_reply.started": "2023-01-10T07:05:03.105647Z",
     "shell.execute_reply": "2023-01-10T07:05:03.117544Z"
    },
    "trusted": true
   },
   "execution_count": 17,
   "outputs": [
    {
     "data": {
      "text/plain": "                                 type\nindex                           int64\nstartdate                      object\nclimateregions__climateregion  object\nmjo1d__phase                    int64\nmei__meirank                    int64\nmei__nip                        int64",
      "text/html": "<div>\n<style scoped>\n    .dataframe tbody tr th:only-of-type {\n        vertical-align: middle;\n    }\n\n    .dataframe tbody tr th {\n        vertical-align: top;\n    }\n\n    .dataframe thead th {\n        text-align: right;\n    }\n</style>\n<table border=\"1\" class=\"dataframe\">\n  <thead>\n    <tr style=\"text-align: right;\">\n      <th></th>\n      <th>type</th>\n    </tr>\n  </thead>\n  <tbody>\n    <tr>\n      <th>index</th>\n      <td>int64</td>\n    </tr>\n    <tr>\n      <th>startdate</th>\n      <td>object</td>\n    </tr>\n    <tr>\n      <th>climateregions__climateregion</th>\n      <td>object</td>\n    </tr>\n    <tr>\n      <th>mjo1d__phase</th>\n      <td>int64</td>\n    </tr>\n    <tr>\n      <th>mei__meirank</th>\n      <td>int64</td>\n    </tr>\n    <tr>\n      <th>mei__nip</th>\n      <td>int64</td>\n    </tr>\n  </tbody>\n</table>\n</div>"
     },
     "execution_count": 17,
     "metadata": {},
     "output_type": "execute_result"
    }
   ]
  },
  {
   "cell_type": "code",
   "source": [
    "train.describe()"
   ],
   "metadata": {
    "execution": {
     "iopub.status.busy": "2023-01-10T06:40:52.986539Z",
     "iopub.execute_input": "2023-01-10T06:40:52.986910Z",
     "iopub.status.idle": "2023-01-10T06:40:57.528906Z",
     "shell.execute_reply.started": "2023-01-10T06:40:52.986878Z",
     "shell.execute_reply": "2023-01-10T06:40:57.527501Z"
    },
    "trusted": true
   },
   "execution_count": 18,
   "outputs": [
    {
     "data": {
      "text/plain": "               index            lat            lon  \\\ncount  375734.000000  375734.000000  375734.000000   \nmean   187866.500000       0.592766       0.517964   \nstd    108465.207359       0.251744       0.272059   \nmin         0.000000       0.000000       0.000000   \n25%     93933.250000       0.409091       0.300000   \n50%    187866.500000       0.590909       0.533333   \n75%    281799.750000       0.818182       0.766667   \nmax    375733.000000       1.000000       1.000000   \n\n       contest-pevpr-sfc-gauss-14d__pevpr  nmme0-tmp2m-34w__cancm30  \\\ncount                       375734.000000             375734.000000   \nmean                           276.744064                 10.801682   \nstd                            198.085182                 10.952417   \nmin                             -2.310000                -14.960000   \n25%                            104.062500                  1.550000   \n50%                            250.320000                  9.950000   \n75%                            420.010000                 20.230000   \nmax                           1185.140000                 36.080000   \n\n       nmme0-tmp2m-34w__cancm40  nmme0-tmp2m-34w__ccsm30  \\\ncount             375734.000000            359800.000000   \nmean                  12.726739                10.099323   \nstd                   11.073553                10.339626   \nmin                  -14.970000               -11.720000   \n25%                    3.650000                 1.640000   \n50%                   11.890000                 9.490000   \n75%                   22.110000                18.740000   \nmax                   36.030000                33.390000   \n\n       nmme0-tmp2m-34w__ccsm40  nmme0-tmp2m-34w__cfsv20  \\\ncount            375734.000000            375734.000000   \nmean                 11.638229                10.733886   \nstd                  10.574276                 9.403434   \nmin                 -17.560000               -13.720000   \n25%                   3.080000                 3.390000   \n50%                  11.600000                10.890000   \n75%                  20.360000                18.330000   \nmax                  34.640000                35.750000   \n\n       nmme0-tmp2m-34w__gfdlflora0  ...  wind-vwnd-925-2010-11  \\\ncount                375734.000000  ...          375734.000000   \nmean                     11.772646  ...              -1.209959   \nstd                      10.689967  ...              37.317333   \nmin                     -13.330000  ...             -94.570000   \n25%                       2.970000  ...             -27.200000   \n50%                      11.280000  ...              -3.200000   \n75%                      20.300000  ...              24.940000   \nmax                      38.350000  ...             113.920000   \n\n       wind-vwnd-925-2010-12  wind-vwnd-925-2010-13  wind-vwnd-925-2010-14  \\\ncount          375734.000000          375734.000000          375734.000000   \nmean               -8.109918               6.800684              19.251970   \nstd                36.201507              38.458878              25.288526   \nmin               -89.940000             -64.870000             -39.280000   \n25%               -33.350000             -19.650000               1.960000   \n50%                -9.390000               2.330000              20.050000   \n75%                17.960000              28.660000              35.090000   \nmax                96.550000             106.420000              91.760000   \n\n       wind-vwnd-925-2010-15  wind-vwnd-925-2010-16  wind-vwnd-925-2010-17  \\\ncount          375734.000000          375734.000000          375734.000000   \nmean              -17.697565              -9.846867              -6.231860   \nstd                31.946748              34.164678              27.050356   \nmin              -100.560000            -106.080000             -93.980000   \n25%               -40.030000             -32.170000             -20.170000   \n50%               -16.710000              -8.560000              -6.030000   \n75%                 4.390000              10.500000              11.630000   \nmax                56.550000              83.890000              64.850000   \n\n       wind-vwnd-925-2010-18  wind-vwnd-925-2010-19  wind-vwnd-925-2010-20  \ncount          375734.000000          375734.000000          375734.000000  \nmean               16.014364              10.489945              11.296334  \nstd                25.847455              25.070435              25.113214  \nmin               -52.610000             -66.110000             -57.610000  \n25%                -0.360000              -6.790000              -5.570000  \n50%                18.650000              11.860000              11.650000  \n75%                31.210000              29.040000              29.180000  \nmax                90.390000              76.890000              88.660000  \n\n[8 rows x 244 columns]",
      "text/html": "<div>\n<style scoped>\n    .dataframe tbody tr th:only-of-type {\n        vertical-align: middle;\n    }\n\n    .dataframe tbody tr th {\n        vertical-align: top;\n    }\n\n    .dataframe thead th {\n        text-align: right;\n    }\n</style>\n<table border=\"1\" class=\"dataframe\">\n  <thead>\n    <tr style=\"text-align: right;\">\n      <th></th>\n      <th>index</th>\n      <th>lat</th>\n      <th>lon</th>\n      <th>contest-pevpr-sfc-gauss-14d__pevpr</th>\n      <th>nmme0-tmp2m-34w__cancm30</th>\n      <th>nmme0-tmp2m-34w__cancm40</th>\n      <th>nmme0-tmp2m-34w__ccsm30</th>\n      <th>nmme0-tmp2m-34w__ccsm40</th>\n      <th>nmme0-tmp2m-34w__cfsv20</th>\n      <th>nmme0-tmp2m-34w__gfdlflora0</th>\n      <th>...</th>\n      <th>wind-vwnd-925-2010-11</th>\n      <th>wind-vwnd-925-2010-12</th>\n      <th>wind-vwnd-925-2010-13</th>\n      <th>wind-vwnd-925-2010-14</th>\n      <th>wind-vwnd-925-2010-15</th>\n      <th>wind-vwnd-925-2010-16</th>\n      <th>wind-vwnd-925-2010-17</th>\n      <th>wind-vwnd-925-2010-18</th>\n      <th>wind-vwnd-925-2010-19</th>\n      <th>wind-vwnd-925-2010-20</th>\n    </tr>\n  </thead>\n  <tbody>\n    <tr>\n      <th>count</th>\n      <td>375734.000000</td>\n      <td>375734.000000</td>\n      <td>375734.000000</td>\n      <td>375734.000000</td>\n      <td>375734.000000</td>\n      <td>375734.000000</td>\n      <td>359800.000000</td>\n      <td>375734.000000</td>\n      <td>375734.000000</td>\n      <td>375734.000000</td>\n      <td>...</td>\n      <td>375734.000000</td>\n      <td>375734.000000</td>\n      <td>375734.000000</td>\n      <td>375734.000000</td>\n      <td>375734.000000</td>\n      <td>375734.000000</td>\n      <td>375734.000000</td>\n      <td>375734.000000</td>\n      <td>375734.000000</td>\n      <td>375734.000000</td>\n    </tr>\n    <tr>\n      <th>mean</th>\n      <td>187866.500000</td>\n      <td>0.592766</td>\n      <td>0.517964</td>\n      <td>276.744064</td>\n      <td>10.801682</td>\n      <td>12.726739</td>\n      <td>10.099323</td>\n      <td>11.638229</td>\n      <td>10.733886</td>\n      <td>11.772646</td>\n      <td>...</td>\n      <td>-1.209959</td>\n      <td>-8.109918</td>\n      <td>6.800684</td>\n      <td>19.251970</td>\n      <td>-17.697565</td>\n      <td>-9.846867</td>\n      <td>-6.231860</td>\n      <td>16.014364</td>\n      <td>10.489945</td>\n      <td>11.296334</td>\n    </tr>\n    <tr>\n      <th>std</th>\n      <td>108465.207359</td>\n      <td>0.251744</td>\n      <td>0.272059</td>\n      <td>198.085182</td>\n      <td>10.952417</td>\n      <td>11.073553</td>\n      <td>10.339626</td>\n      <td>10.574276</td>\n      <td>9.403434</td>\n      <td>10.689967</td>\n      <td>...</td>\n      <td>37.317333</td>\n      <td>36.201507</td>\n      <td>38.458878</td>\n      <td>25.288526</td>\n      <td>31.946748</td>\n      <td>34.164678</td>\n      <td>27.050356</td>\n      <td>25.847455</td>\n      <td>25.070435</td>\n      <td>25.113214</td>\n    </tr>\n    <tr>\n      <th>min</th>\n      <td>0.000000</td>\n      <td>0.000000</td>\n      <td>0.000000</td>\n      <td>-2.310000</td>\n      <td>-14.960000</td>\n      <td>-14.970000</td>\n      <td>-11.720000</td>\n      <td>-17.560000</td>\n      <td>-13.720000</td>\n      <td>-13.330000</td>\n      <td>...</td>\n      <td>-94.570000</td>\n      <td>-89.940000</td>\n      <td>-64.870000</td>\n      <td>-39.280000</td>\n      <td>-100.560000</td>\n      <td>-106.080000</td>\n      <td>-93.980000</td>\n      <td>-52.610000</td>\n      <td>-66.110000</td>\n      <td>-57.610000</td>\n    </tr>\n    <tr>\n      <th>25%</th>\n      <td>93933.250000</td>\n      <td>0.409091</td>\n      <td>0.300000</td>\n      <td>104.062500</td>\n      <td>1.550000</td>\n      <td>3.650000</td>\n      <td>1.640000</td>\n      <td>3.080000</td>\n      <td>3.390000</td>\n      <td>2.970000</td>\n      <td>...</td>\n      <td>-27.200000</td>\n      <td>-33.350000</td>\n      <td>-19.650000</td>\n      <td>1.960000</td>\n      <td>-40.030000</td>\n      <td>-32.170000</td>\n      <td>-20.170000</td>\n      <td>-0.360000</td>\n      <td>-6.790000</td>\n      <td>-5.570000</td>\n    </tr>\n    <tr>\n      <th>50%</th>\n      <td>187866.500000</td>\n      <td>0.590909</td>\n      <td>0.533333</td>\n      <td>250.320000</td>\n      <td>9.950000</td>\n      <td>11.890000</td>\n      <td>9.490000</td>\n      <td>11.600000</td>\n      <td>10.890000</td>\n      <td>11.280000</td>\n      <td>...</td>\n      <td>-3.200000</td>\n      <td>-9.390000</td>\n      <td>2.330000</td>\n      <td>20.050000</td>\n      <td>-16.710000</td>\n      <td>-8.560000</td>\n      <td>-6.030000</td>\n      <td>18.650000</td>\n      <td>11.860000</td>\n      <td>11.650000</td>\n    </tr>\n    <tr>\n      <th>75%</th>\n      <td>281799.750000</td>\n      <td>0.818182</td>\n      <td>0.766667</td>\n      <td>420.010000</td>\n      <td>20.230000</td>\n      <td>22.110000</td>\n      <td>18.740000</td>\n      <td>20.360000</td>\n      <td>18.330000</td>\n      <td>20.300000</td>\n      <td>...</td>\n      <td>24.940000</td>\n      <td>17.960000</td>\n      <td>28.660000</td>\n      <td>35.090000</td>\n      <td>4.390000</td>\n      <td>10.500000</td>\n      <td>11.630000</td>\n      <td>31.210000</td>\n      <td>29.040000</td>\n      <td>29.180000</td>\n    </tr>\n    <tr>\n      <th>max</th>\n      <td>375733.000000</td>\n      <td>1.000000</td>\n      <td>1.000000</td>\n      <td>1185.140000</td>\n      <td>36.080000</td>\n      <td>36.030000</td>\n      <td>33.390000</td>\n      <td>34.640000</td>\n      <td>35.750000</td>\n      <td>38.350000</td>\n      <td>...</td>\n      <td>113.920000</td>\n      <td>96.550000</td>\n      <td>106.420000</td>\n      <td>91.760000</td>\n      <td>56.550000</td>\n      <td>83.890000</td>\n      <td>64.850000</td>\n      <td>90.390000</td>\n      <td>76.890000</td>\n      <td>88.660000</td>\n    </tr>\n  </tbody>\n</table>\n<p>8 rows × 244 columns</p>\n</div>"
     },
     "execution_count": 18,
     "metadata": {},
     "output_type": "execute_result"
    }
   ]
  },
  {
   "cell_type": "code",
   "source": [
    "# count nulls\n",
    "tmp = pd.DataFrame(train.isna().sum()) \\\n",
    "        .rename(columns={0: 'cnt'})\n",
    "\n",
    "null_ls = tmp[tmp.cnt != 0].reset_index()\n",
    "null_ls"
   ],
   "metadata": {
    "execution": {
     "iopub.status.busy": "2023-01-10T07:27:29.918187Z",
     "iopub.execute_input": "2023-01-10T07:27:29.918677Z",
     "iopub.status.idle": "2023-01-10T07:27:30.217585Z",
     "shell.execute_reply.started": "2023-01-10T07:27:29.918636Z",
     "shell.execute_reply": "2023-01-10T07:27:30.216217Z"
    },
    "trusted": true
   },
   "execution_count": 19,
   "outputs": [
    {
     "data": {
      "text/plain": "                     index    cnt\n0  nmme0-tmp2m-34w__ccsm30  15934\n1    nmme-tmp2m-56w__ccsm3  10280\n2    nmme-prate-34w__ccsm3   8738\n3  nmme0-prate-56w__ccsm30  15934\n4  nmme0-prate-34w__ccsm30  15934\n5    nmme-prate-56w__ccsm3  10280\n6    nmme-tmp2m-34w__ccsm3   8738\n7                   ccsm30  15934",
      "text/html": "<div>\n<style scoped>\n    .dataframe tbody tr th:only-of-type {\n        vertical-align: middle;\n    }\n\n    .dataframe tbody tr th {\n        vertical-align: top;\n    }\n\n    .dataframe thead th {\n        text-align: right;\n    }\n</style>\n<table border=\"1\" class=\"dataframe\">\n  <thead>\n    <tr style=\"text-align: right;\">\n      <th></th>\n      <th>index</th>\n      <th>cnt</th>\n    </tr>\n  </thead>\n  <tbody>\n    <tr>\n      <th>0</th>\n      <td>nmme0-tmp2m-34w__ccsm30</td>\n      <td>15934</td>\n    </tr>\n    <tr>\n      <th>1</th>\n      <td>nmme-tmp2m-56w__ccsm3</td>\n      <td>10280</td>\n    </tr>\n    <tr>\n      <th>2</th>\n      <td>nmme-prate-34w__ccsm3</td>\n      <td>8738</td>\n    </tr>\n    <tr>\n      <th>3</th>\n      <td>nmme0-prate-56w__ccsm30</td>\n      <td>15934</td>\n    </tr>\n    <tr>\n      <th>4</th>\n      <td>nmme0-prate-34w__ccsm30</td>\n      <td>15934</td>\n    </tr>\n    <tr>\n      <th>5</th>\n      <td>nmme-prate-56w__ccsm3</td>\n      <td>10280</td>\n    </tr>\n    <tr>\n      <th>6</th>\n      <td>nmme-tmp2m-34w__ccsm3</td>\n      <td>8738</td>\n    </tr>\n    <tr>\n      <th>7</th>\n      <td>ccsm30</td>\n      <td>15934</td>\n    </tr>\n  </tbody>\n</table>\n</div>"
     },
     "execution_count": 19,
     "metadata": {},
     "output_type": "execute_result"
    }
   ]
  },
  {
   "cell_type": "markdown",
   "source": [
    "# Pre-processing"
   ],
   "metadata": {
    "collapsed": false
   }
  },
  {
   "cell_type": "markdown",
   "source": [
    "## Correlations"
   ],
   "metadata": {
    "collapsed": false
   }
  },
  {
   "cell_type": "code",
   "source": [
    "except_col = ['startdate', 'contest-tmp2m-14d__tmp2m']\n",
    "\n",
    "data_col = []\n",
    "data_corr = []\n",
    "\n",
    "for col in train.columns:\n",
    "    if col not in except_col:\n",
    "        try:\n",
    "            print('-------------------------')\n",
    "            print(f'Processing {col}')\n",
    "            corr = train['contest-tmp2m-14d__tmp2m'].corr(train[col])\n",
    "            data_col.append(col)\n",
    "            data_corr.append(corr)\n",
    "        \n",
    "        except TypeError:\n",
    "            print(f'TypeError: {col}')\n",
    "            \n",
    "        except ValueError:\n",
    "            print(f'ValueError: {col} not same length')\n",
    "\n",
    "corr_train = pd.DataFrame(data={'col': data_col, 'corr': data_corr})"
   ],
   "metadata": {
    "scrolled": true,
    "execution": {
     "iopub.status.busy": "2023-01-10T06:45:44.912843Z",
     "iopub.execute_input": "2023-01-10T06:45:44.913282Z",
     "iopub.status.idle": "2023-01-10T06:46:00.071517Z",
     "shell.execute_reply.started": "2023-01-10T06:45:44.913245Z",
     "shell.execute_reply": "2023-01-10T06:46:00.070380Z"
    },
    "trusted": true
   },
   "execution_count": 20,
   "outputs": [
    {
     "name": "stdout",
     "output_type": "stream",
     "text": [
      "-------------------------\n",
      "Processing index\n",
      "-------------------------\n",
      "Processing lat\n",
      "-------------------------\n",
      "Processing lon\n",
      "-------------------------\n",
      "Processing contest-pevpr-sfc-gauss-14d__pevpr\n",
      "-------------------------\n",
      "Processing nmme0-tmp2m-34w__cancm30\n",
      "-------------------------\n",
      "Processing nmme0-tmp2m-34w__cancm40\n",
      "-------------------------\n",
      "Processing nmme0-tmp2m-34w__ccsm30\n",
      "-------------------------\n",
      "Processing nmme0-tmp2m-34w__ccsm40\n",
      "-------------------------\n",
      "Processing nmme0-tmp2m-34w__cfsv20\n",
      "-------------------------\n",
      "Processing nmme0-tmp2m-34w__gfdlflora0\n",
      "-------------------------\n",
      "Processing nmme0-tmp2m-34w__gfdlflorb0\n",
      "-------------------------\n",
      "Processing nmme0-tmp2m-34w__gfdl0\n",
      "-------------------------\n",
      "Processing nmme0-tmp2m-34w__nasa0\n",
      "-------------------------\n",
      "Processing nmme0-tmp2m-34w__nmme0mean\n",
      "-------------------------\n",
      "Processing contest-wind-h10-14d__wind-hgt-10\n",
      "-------------------------\n",
      "Processing nmme-tmp2m-56w__cancm3\n",
      "-------------------------\n",
      "Processing nmme-tmp2m-56w__cancm4\n",
      "-------------------------\n",
      "Processing nmme-tmp2m-56w__ccsm3\n",
      "-------------------------\n",
      "Processing nmme-tmp2m-56w__ccsm4\n",
      "-------------------------\n",
      "Processing nmme-tmp2m-56w__cfsv2\n",
      "-------------------------\n",
      "Processing nmme-tmp2m-56w__gfdl\n",
      "-------------------------\n",
      "Processing nmme-tmp2m-56w__gfdlflora\n",
      "-------------------------\n",
      "Processing nmme-tmp2m-56w__gfdlflorb\n",
      "-------------------------\n",
      "Processing nmme-tmp2m-56w__nasa\n",
      "-------------------------\n",
      "Processing nmme-tmp2m-56w__nmmemean\n",
      "-------------------------\n",
      "Processing contest-rhum-sig995-14d__rhum\n",
      "-------------------------\n",
      "Processing nmme-prate-34w__cancm3\n",
      "-------------------------\n",
      "Processing nmme-prate-34w__cancm4\n",
      "-------------------------\n",
      "Processing nmme-prate-34w__ccsm3\n",
      "-------------------------\n",
      "Processing nmme-prate-34w__ccsm4\n",
      "-------------------------\n",
      "Processing nmme-prate-34w__cfsv2\n",
      "-------------------------\n",
      "Processing nmme-prate-34w__gfdl\n",
      "-------------------------\n",
      "Processing nmme-prate-34w__gfdlflora\n",
      "-------------------------\n",
      "Processing nmme-prate-34w__gfdlflorb\n",
      "-------------------------\n",
      "Processing nmme-prate-34w__nasa\n",
      "-------------------------\n",
      "Processing nmme-prate-34w__nmmemean\n",
      "-------------------------\n",
      "Processing contest-wind-h100-14d__wind-hgt-100\n",
      "-------------------------\n",
      "Processing nmme0-prate-56w__cancm30\n",
      "-------------------------\n",
      "Processing nmme0-prate-56w__cancm40\n",
      "-------------------------\n",
      "Processing nmme0-prate-56w__ccsm30\n",
      "-------------------------\n",
      "Processing nmme0-prate-56w__ccsm40\n",
      "-------------------------\n",
      "Processing nmme0-prate-56w__cfsv20\n",
      "-------------------------\n",
      "Processing nmme0-prate-56w__gfdlflora0\n",
      "-------------------------\n",
      "Processing nmme0-prate-56w__gfdlflorb0\n",
      "-------------------------\n",
      "Processing nmme0-prate-56w__gfdl0\n",
      "-------------------------\n",
      "Processing nmme0-prate-56w__nasa0\n",
      "-------------------------\n",
      "Processing nmme0-prate-56w__nmme0mean\n",
      "-------------------------\n",
      "Processing nmme0-prate-34w__cancm30\n",
      "-------------------------\n",
      "Processing nmme0-prate-34w__cancm40\n",
      "-------------------------\n",
      "Processing nmme0-prate-34w__ccsm30\n",
      "-------------------------\n",
      "Processing nmme0-prate-34w__ccsm40\n",
      "-------------------------\n",
      "Processing nmme0-prate-34w__cfsv20\n",
      "-------------------------\n",
      "Processing nmme0-prate-34w__gfdlflora0\n",
      "-------------------------\n",
      "Processing nmme0-prate-34w__gfdlflorb0\n",
      "-------------------------\n",
      "Processing nmme0-prate-34w__gfdl0\n",
      "-------------------------\n",
      "Processing nmme0-prate-34w__nasa0\n",
      "-------------------------\n",
      "Processing nmme0-prate-34w__nmme0mean\n",
      "-------------------------\n",
      "Processing contest-slp-14d__slp\n",
      "-------------------------\n",
      "Processing contest-wind-vwnd-925-14d__wind-vwnd-925\n",
      "-------------------------\n",
      "Processing nmme-prate-56w__cancm3\n",
      "-------------------------\n",
      "Processing nmme-prate-56w__cancm4\n",
      "-------------------------\n",
      "Processing nmme-prate-56w__ccsm3\n",
      "-------------------------\n",
      "Processing nmme-prate-56w__ccsm4\n",
      "-------------------------\n",
      "Processing nmme-prate-56w__cfsv2\n",
      "-------------------------\n",
      "Processing nmme-prate-56w__gfdl\n",
      "-------------------------\n",
      "Processing nmme-prate-56w__gfdlflora\n",
      "-------------------------\n",
      "Processing nmme-prate-56w__gfdlflorb\n",
      "-------------------------\n",
      "Processing nmme-prate-56w__nasa\n",
      "-------------------------\n",
      "Processing nmme-prate-56w__nmmemean\n",
      "-------------------------\n",
      "Processing contest-pres-sfc-gauss-14d__pres\n",
      "-------------------------\n",
      "Processing contest-wind-uwnd-250-14d__wind-uwnd-250\n",
      "-------------------------\n",
      "Processing nmme-tmp2m-34w__cancm3\n",
      "-------------------------\n",
      "Processing nmme-tmp2m-34w__cancm4\n",
      "-------------------------\n",
      "Processing nmme-tmp2m-34w__ccsm3\n",
      "-------------------------\n",
      "Processing nmme-tmp2m-34w__ccsm4\n",
      "-------------------------\n",
      "Processing nmme-tmp2m-34w__cfsv2\n",
      "-------------------------\n",
      "Processing nmme-tmp2m-34w__gfdl\n",
      "-------------------------\n",
      "Processing nmme-tmp2m-34w__gfdlflora\n",
      "-------------------------\n",
      "Processing nmme-tmp2m-34w__gfdlflorb\n",
      "-------------------------\n",
      "Processing nmme-tmp2m-34w__nasa\n",
      "-------------------------\n",
      "Processing nmme-tmp2m-34w__nmmemean\n",
      "-------------------------\n",
      "Processing contest-prwtr-eatm-14d__prwtr\n",
      "-------------------------\n",
      "Processing contest-wind-vwnd-250-14d__wind-vwnd-250\n",
      "-------------------------\n",
      "Processing contest-precip-14d__precip\n",
      "-------------------------\n",
      "Processing contest-wind-h850-14d__wind-hgt-850\n",
      "-------------------------\n",
      "Processing contest-wind-uwnd-925-14d__wind-uwnd-925\n",
      "-------------------------\n",
      "Processing contest-wind-h500-14d__wind-hgt-500\n",
      "-------------------------\n",
      "Processing cancm30\n",
      "-------------------------\n",
      "Processing cancm40\n",
      "-------------------------\n",
      "Processing ccsm30\n",
      "-------------------------\n",
      "Processing ccsm40\n",
      "-------------------------\n",
      "Processing cfsv20\n",
      "-------------------------\n",
      "Processing gfdlflora0\n",
      "-------------------------\n",
      "Processing gfdlflorb0\n",
      "-------------------------\n",
      "Processing gfdl0\n",
      "-------------------------\n",
      "Processing nasa0\n",
      "-------------------------\n",
      "Processing nmme0mean\n",
      "-------------------------\n",
      "Processing climateregions__climateregion\n",
      "TypeError: climateregions__climateregion\n",
      "-------------------------\n",
      "Processing elevation__elevation\n",
      "-------------------------\n",
      "Processing wind-vwnd-250-2010-1\n",
      "-------------------------\n",
      "Processing wind-vwnd-250-2010-2\n",
      "-------------------------\n",
      "Processing wind-vwnd-250-2010-3\n",
      "-------------------------\n",
      "Processing wind-vwnd-250-2010-4\n",
      "-------------------------\n",
      "Processing wind-vwnd-250-2010-5\n",
      "-------------------------\n",
      "Processing wind-vwnd-250-2010-6\n",
      "-------------------------\n",
      "Processing wind-vwnd-250-2010-7\n",
      "-------------------------\n",
      "Processing wind-vwnd-250-2010-8\n",
      "-------------------------\n",
      "Processing wind-vwnd-250-2010-9\n",
      "-------------------------\n",
      "Processing wind-vwnd-250-2010-10\n",
      "-------------------------\n",
      "Processing wind-vwnd-250-2010-11\n",
      "-------------------------\n",
      "Processing wind-vwnd-250-2010-12\n",
      "-------------------------\n",
      "Processing wind-vwnd-250-2010-13\n",
      "-------------------------\n",
      "Processing wind-vwnd-250-2010-14\n",
      "-------------------------\n",
      "Processing wind-vwnd-250-2010-15\n",
      "-------------------------\n",
      "Processing wind-vwnd-250-2010-16\n",
      "-------------------------\n",
      "Processing wind-vwnd-250-2010-17\n",
      "-------------------------\n",
      "Processing wind-vwnd-250-2010-18\n",
      "-------------------------\n",
      "Processing wind-vwnd-250-2010-19\n",
      "-------------------------\n",
      "Processing wind-vwnd-250-2010-20\n",
      "-------------------------\n",
      "Processing wind-uwnd-250-2010-1\n",
      "-------------------------\n",
      "Processing wind-uwnd-250-2010-2\n",
      "-------------------------\n",
      "Processing wind-uwnd-250-2010-3\n",
      "-------------------------\n",
      "Processing wind-uwnd-250-2010-4\n",
      "-------------------------\n",
      "Processing wind-uwnd-250-2010-5\n",
      "-------------------------\n",
      "Processing wind-uwnd-250-2010-6\n",
      "-------------------------\n",
      "Processing wind-uwnd-250-2010-7\n",
      "-------------------------\n",
      "Processing wind-uwnd-250-2010-8\n",
      "-------------------------\n",
      "Processing wind-uwnd-250-2010-9\n",
      "-------------------------\n",
      "Processing wind-uwnd-250-2010-10\n",
      "-------------------------\n",
      "Processing wind-uwnd-250-2010-11\n",
      "-------------------------\n",
      "Processing wind-uwnd-250-2010-12\n",
      "-------------------------\n",
      "Processing wind-uwnd-250-2010-13\n",
      "-------------------------\n",
      "Processing wind-uwnd-250-2010-14\n",
      "-------------------------\n",
      "Processing wind-uwnd-250-2010-15\n",
      "-------------------------\n",
      "Processing wind-uwnd-250-2010-16\n",
      "-------------------------\n",
      "Processing wind-uwnd-250-2010-17\n",
      "-------------------------\n",
      "Processing wind-uwnd-250-2010-18\n",
      "-------------------------\n",
      "Processing wind-uwnd-250-2010-19\n",
      "-------------------------\n",
      "Processing wind-uwnd-250-2010-20\n",
      "-------------------------\n",
      "Processing mjo1d__phase\n",
      "-------------------------\n",
      "Processing mjo1d__amplitude\n",
      "-------------------------\n",
      "Processing mei__mei\n",
      "-------------------------\n",
      "Processing mei__meirank\n",
      "-------------------------\n",
      "Processing mei__nip\n",
      "-------------------------\n",
      "Processing wind-hgt-850-2010-1\n",
      "-------------------------\n",
      "Processing wind-hgt-850-2010-2\n",
      "-------------------------\n",
      "Processing wind-hgt-850-2010-3\n",
      "-------------------------\n",
      "Processing wind-hgt-850-2010-4\n",
      "-------------------------\n",
      "Processing wind-hgt-850-2010-5\n",
      "-------------------------\n",
      "Processing wind-hgt-850-2010-6\n",
      "-------------------------\n",
      "Processing wind-hgt-850-2010-7\n",
      "-------------------------\n",
      "Processing wind-hgt-850-2010-8\n",
      "-------------------------\n",
      "Processing wind-hgt-850-2010-9\n",
      "-------------------------\n",
      "Processing wind-hgt-850-2010-10\n",
      "-------------------------\n",
      "Processing sst-2010-1\n",
      "-------------------------\n",
      "Processing sst-2010-2\n",
      "-------------------------\n",
      "Processing sst-2010-3\n",
      "-------------------------\n",
      "Processing sst-2010-4\n",
      "-------------------------\n",
      "Processing sst-2010-5\n",
      "-------------------------\n",
      "Processing sst-2010-6\n",
      "-------------------------\n",
      "Processing sst-2010-7\n",
      "-------------------------\n",
      "Processing sst-2010-8\n",
      "-------------------------\n",
      "Processing sst-2010-9\n",
      "-------------------------\n",
      "Processing sst-2010-10\n",
      "-------------------------\n",
      "Processing wind-hgt-500-2010-1\n",
      "-------------------------\n",
      "Processing wind-hgt-500-2010-2\n",
      "-------------------------\n",
      "Processing wind-hgt-500-2010-3\n",
      "-------------------------\n",
      "Processing wind-hgt-500-2010-4\n",
      "-------------------------\n",
      "Processing wind-hgt-500-2010-5\n",
      "-------------------------\n",
      "Processing wind-hgt-500-2010-6\n",
      "-------------------------\n",
      "Processing wind-hgt-500-2010-7\n",
      "-------------------------\n",
      "Processing wind-hgt-500-2010-8\n",
      "-------------------------\n",
      "Processing wind-hgt-500-2010-9\n",
      "-------------------------\n",
      "Processing wind-hgt-500-2010-10\n",
      "-------------------------\n",
      "Processing icec-2010-1\n",
      "-------------------------\n",
      "Processing icec-2010-2\n",
      "-------------------------\n",
      "Processing icec-2010-3\n",
      "-------------------------\n",
      "Processing icec-2010-4\n",
      "-------------------------\n",
      "Processing icec-2010-5\n",
      "-------------------------\n",
      "Processing icec-2010-6\n",
      "-------------------------\n",
      "Processing icec-2010-7\n",
      "-------------------------\n",
      "Processing icec-2010-8\n",
      "-------------------------\n",
      "Processing icec-2010-9\n",
      "-------------------------\n",
      "Processing icec-2010-10\n",
      "-------------------------\n",
      "Processing wind-uwnd-925-2010-1\n",
      "-------------------------\n",
      "Processing wind-uwnd-925-2010-2\n",
      "-------------------------\n",
      "Processing wind-uwnd-925-2010-3\n",
      "-------------------------\n",
      "Processing wind-uwnd-925-2010-4\n",
      "-------------------------\n",
      "Processing wind-uwnd-925-2010-5\n",
      "-------------------------\n",
      "Processing wind-uwnd-925-2010-6\n",
      "-------------------------\n",
      "Processing wind-uwnd-925-2010-7\n",
      "-------------------------\n",
      "Processing wind-uwnd-925-2010-8\n",
      "-------------------------\n",
      "Processing wind-uwnd-925-2010-9\n",
      "-------------------------\n",
      "Processing wind-uwnd-925-2010-10\n",
      "-------------------------\n",
      "Processing wind-uwnd-925-2010-11\n",
      "-------------------------\n",
      "Processing wind-uwnd-925-2010-12\n",
      "-------------------------\n",
      "Processing wind-uwnd-925-2010-13\n",
      "-------------------------\n",
      "Processing wind-uwnd-925-2010-14\n",
      "-------------------------\n",
      "Processing wind-uwnd-925-2010-15\n",
      "-------------------------\n",
      "Processing wind-uwnd-925-2010-16\n",
      "-------------------------\n",
      "Processing wind-uwnd-925-2010-17\n",
      "-------------------------\n",
      "Processing wind-uwnd-925-2010-18\n",
      "-------------------------\n",
      "Processing wind-uwnd-925-2010-19\n",
      "-------------------------\n",
      "Processing wind-uwnd-925-2010-20\n",
      "-------------------------\n",
      "Processing wind-hgt-10-2010-1\n",
      "-------------------------\n",
      "Processing wind-hgt-10-2010-2\n",
      "-------------------------\n",
      "Processing wind-hgt-10-2010-3\n",
      "-------------------------\n",
      "Processing wind-hgt-10-2010-4\n",
      "-------------------------\n",
      "Processing wind-hgt-10-2010-5\n",
      "-------------------------\n",
      "Processing wind-hgt-10-2010-6\n",
      "-------------------------\n",
      "Processing wind-hgt-10-2010-7\n",
      "-------------------------\n",
      "Processing wind-hgt-10-2010-8\n",
      "-------------------------\n",
      "Processing wind-hgt-10-2010-9\n",
      "-------------------------\n",
      "Processing wind-hgt-10-2010-10\n",
      "-------------------------\n",
      "Processing wind-hgt-100-2010-1\n",
      "-------------------------\n",
      "Processing wind-hgt-100-2010-2\n",
      "-------------------------\n",
      "Processing wind-hgt-100-2010-3\n",
      "-------------------------\n",
      "Processing wind-hgt-100-2010-4\n",
      "-------------------------\n",
      "Processing wind-hgt-100-2010-5\n",
      "-------------------------\n",
      "Processing wind-hgt-100-2010-6\n",
      "-------------------------\n",
      "Processing wind-hgt-100-2010-7\n",
      "-------------------------\n",
      "Processing wind-hgt-100-2010-8\n",
      "-------------------------\n",
      "Processing wind-hgt-100-2010-9\n",
      "-------------------------\n",
      "Processing wind-hgt-100-2010-10\n",
      "-------------------------\n",
      "Processing wind-vwnd-925-2010-1\n",
      "-------------------------\n",
      "Processing wind-vwnd-925-2010-2\n",
      "-------------------------\n",
      "Processing wind-vwnd-925-2010-3\n",
      "-------------------------\n",
      "Processing wind-vwnd-925-2010-4\n",
      "-------------------------\n",
      "Processing wind-vwnd-925-2010-5\n",
      "-------------------------\n",
      "Processing wind-vwnd-925-2010-6\n",
      "-------------------------\n",
      "Processing wind-vwnd-925-2010-7\n",
      "-------------------------\n",
      "Processing wind-vwnd-925-2010-8\n",
      "-------------------------\n",
      "Processing wind-vwnd-925-2010-9\n",
      "-------------------------\n",
      "Processing wind-vwnd-925-2010-10\n",
      "-------------------------\n",
      "Processing wind-vwnd-925-2010-11\n",
      "-------------------------\n",
      "Processing wind-vwnd-925-2010-12\n",
      "-------------------------\n",
      "Processing wind-vwnd-925-2010-13\n",
      "-------------------------\n",
      "Processing wind-vwnd-925-2010-14\n",
      "-------------------------\n",
      "Processing wind-vwnd-925-2010-15\n",
      "-------------------------\n",
      "Processing wind-vwnd-925-2010-16\n",
      "-------------------------\n",
      "Processing wind-vwnd-925-2010-17\n",
      "-------------------------\n",
      "Processing wind-vwnd-925-2010-18\n",
      "-------------------------\n",
      "Processing wind-vwnd-925-2010-19\n",
      "-------------------------\n",
      "Processing wind-vwnd-925-2010-20\n"
     ]
    }
   ]
  },
  {
   "cell_type": "code",
   "source": [
    "corr_train = corr_train.sort_values(by='corr', ascending=False)\n",
    "corr_train[corr_train['corr'] >= 0.5].head(20)"
   ],
   "metadata": {
    "execution": {
     "iopub.status.busy": "2023-01-10T07:44:22.684189Z",
     "iopub.execute_input": "2023-01-10T07:44:22.684798Z",
     "iopub.status.idle": "2023-01-10T07:44:22.705627Z",
     "shell.execute_reply.started": "2023-01-10T07:44:22.684736Z",
     "shell.execute_reply": "2023-01-10T07:44:22.703802Z"
    },
    "trusted": true
   },
   "execution_count": 21,
   "outputs": [
    {
     "data": {
      "text/plain": "                          col      corr\n19      nmme-tmp2m-56w__cfsv2  0.954668\n75      nmme-tmp2m-34w__cfsv2  0.954483\n24   nmme-tmp2m-56w__nmmemean  0.950865\n80   nmme-tmp2m-34w__nmmemean  0.950187\n21  nmme-tmp2m-56w__gfdlflora  0.949846\n78  nmme-tmp2m-34w__gfdlflorb  0.949346\n22  nmme-tmp2m-56w__gfdlflorb  0.949016\n77  nmme-tmp2m-34w__gfdlflora  0.947379\n18      nmme-tmp2m-56w__ccsm4  0.944435\n74      nmme-tmp2m-34w__ccsm4  0.943234\n23       nmme-tmp2m-56w__nasa  0.941429\n79       nmme-tmp2m-34w__nasa  0.940128\n20       nmme-tmp2m-56w__gfdl  0.937179\n76       nmme-tmp2m-34w__gfdl  0.936684\n71     nmme-tmp2m-34w__cancm3  0.931658\n15     nmme-tmp2m-56w__cancm3  0.930164\n72     nmme-tmp2m-34w__cancm4  0.928570\n16     nmme-tmp2m-56w__cancm4  0.927753\n17      nmme-tmp2m-56w__ccsm3  0.917626\n73      nmme-tmp2m-34w__ccsm3  0.900761",
      "text/html": "<div>\n<style scoped>\n    .dataframe tbody tr th:only-of-type {\n        vertical-align: middle;\n    }\n\n    .dataframe tbody tr th {\n        vertical-align: top;\n    }\n\n    .dataframe thead th {\n        text-align: right;\n    }\n</style>\n<table border=\"1\" class=\"dataframe\">\n  <thead>\n    <tr style=\"text-align: right;\">\n      <th></th>\n      <th>col</th>\n      <th>corr</th>\n    </tr>\n  </thead>\n  <tbody>\n    <tr>\n      <th>19</th>\n      <td>nmme-tmp2m-56w__cfsv2</td>\n      <td>0.954668</td>\n    </tr>\n    <tr>\n      <th>75</th>\n      <td>nmme-tmp2m-34w__cfsv2</td>\n      <td>0.954483</td>\n    </tr>\n    <tr>\n      <th>24</th>\n      <td>nmme-tmp2m-56w__nmmemean</td>\n      <td>0.950865</td>\n    </tr>\n    <tr>\n      <th>80</th>\n      <td>nmme-tmp2m-34w__nmmemean</td>\n      <td>0.950187</td>\n    </tr>\n    <tr>\n      <th>21</th>\n      <td>nmme-tmp2m-56w__gfdlflora</td>\n      <td>0.949846</td>\n    </tr>\n    <tr>\n      <th>78</th>\n      <td>nmme-tmp2m-34w__gfdlflorb</td>\n      <td>0.949346</td>\n    </tr>\n    <tr>\n      <th>22</th>\n      <td>nmme-tmp2m-56w__gfdlflorb</td>\n      <td>0.949016</td>\n    </tr>\n    <tr>\n      <th>77</th>\n      <td>nmme-tmp2m-34w__gfdlflora</td>\n      <td>0.947379</td>\n    </tr>\n    <tr>\n      <th>18</th>\n      <td>nmme-tmp2m-56w__ccsm4</td>\n      <td>0.944435</td>\n    </tr>\n    <tr>\n      <th>74</th>\n      <td>nmme-tmp2m-34w__ccsm4</td>\n      <td>0.943234</td>\n    </tr>\n    <tr>\n      <th>23</th>\n      <td>nmme-tmp2m-56w__nasa</td>\n      <td>0.941429</td>\n    </tr>\n    <tr>\n      <th>79</th>\n      <td>nmme-tmp2m-34w__nasa</td>\n      <td>0.940128</td>\n    </tr>\n    <tr>\n      <th>20</th>\n      <td>nmme-tmp2m-56w__gfdl</td>\n      <td>0.937179</td>\n    </tr>\n    <tr>\n      <th>76</th>\n      <td>nmme-tmp2m-34w__gfdl</td>\n      <td>0.936684</td>\n    </tr>\n    <tr>\n      <th>71</th>\n      <td>nmme-tmp2m-34w__cancm3</td>\n      <td>0.931658</td>\n    </tr>\n    <tr>\n      <th>15</th>\n      <td>nmme-tmp2m-56w__cancm3</td>\n      <td>0.930164</td>\n    </tr>\n    <tr>\n      <th>72</th>\n      <td>nmme-tmp2m-34w__cancm4</td>\n      <td>0.928570</td>\n    </tr>\n    <tr>\n      <th>16</th>\n      <td>nmme-tmp2m-56w__cancm4</td>\n      <td>0.927753</td>\n    </tr>\n    <tr>\n      <th>17</th>\n      <td>nmme-tmp2m-56w__ccsm3</td>\n      <td>0.917626</td>\n    </tr>\n    <tr>\n      <th>73</th>\n      <td>nmme-tmp2m-34w__ccsm3</td>\n      <td>0.900761</td>\n    </tr>\n  </tbody>\n</table>\n</div>"
     },
     "execution_count": 21,
     "metadata": {},
     "output_type": "execute_result"
    }
   ]
  },
  {
   "cell_type": "code",
   "execution_count": 22,
   "outputs": [],
   "source": [
    "corr_train_07 = corr_train[corr_train['corr'] >= 0.7]"
   ],
   "metadata": {
    "collapsed": false
   }
  },
  {
   "cell_type": "code",
   "execution_count": 23,
   "outputs": [],
   "source": [
    "# corr_train_07.to_csv('correlations_with_target_greater_0.7.csv')"
   ],
   "metadata": {
    "collapsed": false
   }
  },
  {
   "cell_type": "code",
   "execution_count": 24,
   "outputs": [],
   "source": [
    "corr_train.to_csv('data/correlations_with_target.csv')"
   ],
   "metadata": {
    "collapsed": false
   }
  },
  {
   "cell_type": "code",
   "execution_count": 2,
   "outputs": [
    {
     "data": {
      "text/plain": "   Unnamed: 0                        col      corr\n0          19      nmme-tmp2m-56w__cfsv2  0.954668\n1          75      nmme-tmp2m-34w__cfsv2  0.954483\n2          24   nmme-tmp2m-56w__nmmemean  0.950865\n3          80   nmme-tmp2m-34w__nmmemean  0.950187\n4          21  nmme-tmp2m-56w__gfdlflora  0.949846",
      "text/html": "<div>\n<style scoped>\n    .dataframe tbody tr th:only-of-type {\n        vertical-align: middle;\n    }\n\n    .dataframe tbody tr th {\n        vertical-align: top;\n    }\n\n    .dataframe thead th {\n        text-align: right;\n    }\n</style>\n<table border=\"1\" class=\"dataframe\">\n  <thead>\n    <tr style=\"text-align: right;\">\n      <th></th>\n      <th>Unnamed: 0</th>\n      <th>col</th>\n      <th>corr</th>\n    </tr>\n  </thead>\n  <tbody>\n    <tr>\n      <th>0</th>\n      <td>19</td>\n      <td>nmme-tmp2m-56w__cfsv2</td>\n      <td>0.954668</td>\n    </tr>\n    <tr>\n      <th>1</th>\n      <td>75</td>\n      <td>nmme-tmp2m-34w__cfsv2</td>\n      <td>0.954483</td>\n    </tr>\n    <tr>\n      <th>2</th>\n      <td>24</td>\n      <td>nmme-tmp2m-56w__nmmemean</td>\n      <td>0.950865</td>\n    </tr>\n    <tr>\n      <th>3</th>\n      <td>80</td>\n      <td>nmme-tmp2m-34w__nmmemean</td>\n      <td>0.950187</td>\n    </tr>\n    <tr>\n      <th>4</th>\n      <td>21</td>\n      <td>nmme-tmp2m-56w__gfdlflora</td>\n      <td>0.949846</td>\n    </tr>\n  </tbody>\n</table>\n</div>"
     },
     "execution_count": 2,
     "metadata": {},
     "output_type": "execute_result"
    }
   ],
   "source": [
    "import pandas as pd\n",
    "\n",
    "corr_train = pd.read_csv('data/correlations_with_target.csv')\n",
    "corr_train.head()"
   ],
   "metadata": {
    "collapsed": false
   }
  },
  {
   "cell_type": "code",
   "execution_count": 3,
   "outputs": [
    {
     "data": {
      "text/plain": "     Unnamed: 0                   col      corr\n236          57  contest-slp-14d__slp -0.707640\n237          98  wind-vwnd-250-2010-1 -0.731919\n238         143   wind-hgt-850-2010-1 -0.779923\n239         213   wind-hgt-100-2010-1 -0.802240\n240         163   wind-hgt-500-2010-1 -0.806078\n241         223  wind-vwnd-925-2010-1 -0.807371\n242         203    wind-hgt-10-2010-1 -0.815701",
      "text/html": "<div>\n<style scoped>\n    .dataframe tbody tr th:only-of-type {\n        vertical-align: middle;\n    }\n\n    .dataframe tbody tr th {\n        vertical-align: top;\n    }\n\n    .dataframe thead th {\n        text-align: right;\n    }\n</style>\n<table border=\"1\" class=\"dataframe\">\n  <thead>\n    <tr style=\"text-align: right;\">\n      <th></th>\n      <th>Unnamed: 0</th>\n      <th>col</th>\n      <th>corr</th>\n    </tr>\n  </thead>\n  <tbody>\n    <tr>\n      <th>236</th>\n      <td>57</td>\n      <td>contest-slp-14d__slp</td>\n      <td>-0.707640</td>\n    </tr>\n    <tr>\n      <th>237</th>\n      <td>98</td>\n      <td>wind-vwnd-250-2010-1</td>\n      <td>-0.731919</td>\n    </tr>\n    <tr>\n      <th>238</th>\n      <td>143</td>\n      <td>wind-hgt-850-2010-1</td>\n      <td>-0.779923</td>\n    </tr>\n    <tr>\n      <th>239</th>\n      <td>213</td>\n      <td>wind-hgt-100-2010-1</td>\n      <td>-0.802240</td>\n    </tr>\n    <tr>\n      <th>240</th>\n      <td>163</td>\n      <td>wind-hgt-500-2010-1</td>\n      <td>-0.806078</td>\n    </tr>\n    <tr>\n      <th>241</th>\n      <td>223</td>\n      <td>wind-vwnd-925-2010-1</td>\n      <td>-0.807371</td>\n    </tr>\n    <tr>\n      <th>242</th>\n      <td>203</td>\n      <td>wind-hgt-10-2010-1</td>\n      <td>-0.815701</td>\n    </tr>\n  </tbody>\n</table>\n</div>"
     },
     "execution_count": 3,
     "metadata": {},
     "output_type": "execute_result"
    }
   ],
   "source": [
    "corr_train[corr_train['corr'] <= -0.7]"
   ],
   "metadata": {
    "collapsed": false
   }
  },
  {
   "cell_type": "markdown",
   "source": [
    "## Fill nulls"
   ],
   "metadata": {
    "collapsed": false
   }
  },
  {
   "cell_type": "code",
   "execution_count": 30,
   "outputs": [
    {
     "data": {
      "text/plain": "{'nmme0-tmp2m-34w__ccsm30': 10.099322984991662,\n 'nmme-tmp2m-56w__ccsm3': 9.663224126702678,\n 'nmme-prate-34w__ccsm3': 31.26154696508954,\n 'nmme0-prate-56w__ccsm30': 29.62399274596999,\n 'nmme0-prate-34w__ccsm30': 29.65260622568093,\n 'nmme-prate-56w__ccsm3': 32.00762760839941,\n 'nmme-tmp2m-34w__ccsm3': 9.820987313213221,\n 'ccsm30': 10.101533351862145}"
     },
     "execution_count": 30,
     "metadata": {},
     "output_type": "execute_result"
    }
   ],
   "source": [
    "mean_values = {}\n",
    "for i in null_ls['index']:\n",
    "    mean = train.loc[:, i].mean()\n",
    "    mean_values[i] = mean\n",
    "\n",
    "mean_values"
   ],
   "metadata": {
    "collapsed": false
   }
  },
  {
   "cell_type": "code",
   "execution_count": 12,
   "outputs": [
    {
     "name": "stderr",
     "output_type": "stream",
     "text": [
      "/var/folders/jl/ncw1ybbj0fs6f3mcht1ks56h0000gn/T/ipykernel_1657/3725902215.py:2: SettingWithCopyWarning: \n",
      "A value is trying to be set on a copy of a slice from a DataFrame\n",
      "\n",
      "See the caveats in the documentation: https://pandas.pydata.org/pandas-docs/stable/user_guide/indexing.html#returning-a-view-versus-a-copy\n",
      "  X[k].fillna(value=v, inplace=True)\n"
     ]
    }
   ],
   "source": [
    "for k, v in mean_values.items():\n",
    "    train[k].fillna(value=v, inplace=True)"
   ],
   "metadata": {
    "collapsed": false
   }
  },
  {
   "cell_type": "markdown",
   "source": [
    "## Label encoder"
   ],
   "metadata": {
    "collapsed": false
   }
  },
  {
   "cell_type": "code",
   "execution_count": 31,
   "outputs": [],
   "source": [
    "le = LabelEncoder()\n",
    "\n",
    "le.fit(train['climateregions__climateregion'])\n",
    "\n",
    "train['climateregions__climateregion'] = le.fit_transform(train['climateregions__climateregion'])\n",
    "test['climateregions__climateregion'] = le.fit_transform(test['climateregions__climateregion'])"
   ],
   "metadata": {
    "collapsed": false
   }
  },
  {
   "cell_type": "markdown",
   "source": [
    "## Check distributions"
   ],
   "metadata": {
    "collapsed": false
   }
  },
  {
   "cell_type": "code",
   "execution_count": 32,
   "outputs": [
    {
     "data": {
      "text/plain": "   index  lat       lon startdate  contest-pevpr-sfc-gauss-14d__pevpr  \\\n0      0  0.0  0.833333    9/1/14                              237.00   \n1      1  0.0  0.833333    9/2/14                              228.90   \n2      2  0.0  0.833333    9/3/14                              220.69   \n3      3  0.0  0.833333    9/4/14                              225.28   \n4      4  0.0  0.833333    9/5/14                              237.24   \n\n   nmme0-tmp2m-34w__cancm30  nmme0-tmp2m-34w__cancm40  \\\n0                     29.02                     31.64   \n1                     29.02                     31.64   \n2                     29.02                     31.64   \n3                     29.02                     31.64   \n4                     29.02                     31.64   \n\n   nmme0-tmp2m-34w__ccsm30  nmme0-tmp2m-34w__ccsm40  nmme0-tmp2m-34w__cfsv20  \\\n0                    29.57                    30.73                    29.71   \n1                    29.57                    30.73                    29.71   \n2                    29.57                    30.73                    29.71   \n3                    29.57                    30.73                    29.71   \n4                    29.57                    30.73                    29.71   \n\n   ...  wind-vwnd-925-2010-12  wind-vwnd-925-2010-13  wind-vwnd-925-2010-14  \\\n0  ...                 -37.21                   8.32                   9.56   \n1  ...                 -36.57                   8.77                  21.17   \n2  ...                 -34.16                   6.99                  32.16   \n3  ...                 -31.04                   6.17                  39.66   \n4  ...                 -31.80                   7.47                  38.62   \n\n   wind-vwnd-925-2010-15  wind-vwnd-925-2010-16  wind-vwnd-925-2010-17  \\\n0                  -2.03                  48.13                  28.09   \n1                   4.44                  48.60                  27.41   \n2                   5.01                  48.53                  19.21   \n3                  -1.41                  50.59                   8.29   \n4                  -5.21                  54.73                  -2.58   \n\n   wind-vwnd-925-2010-18  wind-vwnd-925-2010-19  wind-vwnd-925-2010-20  \\\n0                 -13.50                  11.90                   4.58   \n1                 -23.77                  15.44                   3.42   \n2                 -33.16                  15.11                   4.82   \n3                 -37.22                  18.24                   9.74   \n4                 -42.30                  21.91                  10.95   \n\n          loc  \n0  0.0_0.8333  \n1  0.0_0.8333  \n2  0.0_0.8333  \n3  0.0_0.8333  \n4  0.0_0.8333  \n\n[5 rows x 247 columns]",
      "text/html": "<div>\n<style scoped>\n    .dataframe tbody tr th:only-of-type {\n        vertical-align: middle;\n    }\n\n    .dataframe tbody tr th {\n        vertical-align: top;\n    }\n\n    .dataframe thead th {\n        text-align: right;\n    }\n</style>\n<table border=\"1\" class=\"dataframe\">\n  <thead>\n    <tr style=\"text-align: right;\">\n      <th></th>\n      <th>index</th>\n      <th>lat</th>\n      <th>lon</th>\n      <th>startdate</th>\n      <th>contest-pevpr-sfc-gauss-14d__pevpr</th>\n      <th>nmme0-tmp2m-34w__cancm30</th>\n      <th>nmme0-tmp2m-34w__cancm40</th>\n      <th>nmme0-tmp2m-34w__ccsm30</th>\n      <th>nmme0-tmp2m-34w__ccsm40</th>\n      <th>nmme0-tmp2m-34w__cfsv20</th>\n      <th>...</th>\n      <th>wind-vwnd-925-2010-12</th>\n      <th>wind-vwnd-925-2010-13</th>\n      <th>wind-vwnd-925-2010-14</th>\n      <th>wind-vwnd-925-2010-15</th>\n      <th>wind-vwnd-925-2010-16</th>\n      <th>wind-vwnd-925-2010-17</th>\n      <th>wind-vwnd-925-2010-18</th>\n      <th>wind-vwnd-925-2010-19</th>\n      <th>wind-vwnd-925-2010-20</th>\n      <th>loc</th>\n    </tr>\n  </thead>\n  <tbody>\n    <tr>\n      <th>0</th>\n      <td>0</td>\n      <td>0.0</td>\n      <td>0.833333</td>\n      <td>9/1/14</td>\n      <td>237.00</td>\n      <td>29.02</td>\n      <td>31.64</td>\n      <td>29.57</td>\n      <td>30.73</td>\n      <td>29.71</td>\n      <td>...</td>\n      <td>-37.21</td>\n      <td>8.32</td>\n      <td>9.56</td>\n      <td>-2.03</td>\n      <td>48.13</td>\n      <td>28.09</td>\n      <td>-13.50</td>\n      <td>11.90</td>\n      <td>4.58</td>\n      <td>0.0_0.8333</td>\n    </tr>\n    <tr>\n      <th>1</th>\n      <td>1</td>\n      <td>0.0</td>\n      <td>0.833333</td>\n      <td>9/2/14</td>\n      <td>228.90</td>\n      <td>29.02</td>\n      <td>31.64</td>\n      <td>29.57</td>\n      <td>30.73</td>\n      <td>29.71</td>\n      <td>...</td>\n      <td>-36.57</td>\n      <td>8.77</td>\n      <td>21.17</td>\n      <td>4.44</td>\n      <td>48.60</td>\n      <td>27.41</td>\n      <td>-23.77</td>\n      <td>15.44</td>\n      <td>3.42</td>\n      <td>0.0_0.8333</td>\n    </tr>\n    <tr>\n      <th>2</th>\n      <td>2</td>\n      <td>0.0</td>\n      <td>0.833333</td>\n      <td>9/3/14</td>\n      <td>220.69</td>\n      <td>29.02</td>\n      <td>31.64</td>\n      <td>29.57</td>\n      <td>30.73</td>\n      <td>29.71</td>\n      <td>...</td>\n      <td>-34.16</td>\n      <td>6.99</td>\n      <td>32.16</td>\n      <td>5.01</td>\n      <td>48.53</td>\n      <td>19.21</td>\n      <td>-33.16</td>\n      <td>15.11</td>\n      <td>4.82</td>\n      <td>0.0_0.8333</td>\n    </tr>\n    <tr>\n      <th>3</th>\n      <td>3</td>\n      <td>0.0</td>\n      <td>0.833333</td>\n      <td>9/4/14</td>\n      <td>225.28</td>\n      <td>29.02</td>\n      <td>31.64</td>\n      <td>29.57</td>\n      <td>30.73</td>\n      <td>29.71</td>\n      <td>...</td>\n      <td>-31.04</td>\n      <td>6.17</td>\n      <td>39.66</td>\n      <td>-1.41</td>\n      <td>50.59</td>\n      <td>8.29</td>\n      <td>-37.22</td>\n      <td>18.24</td>\n      <td>9.74</td>\n      <td>0.0_0.8333</td>\n    </tr>\n    <tr>\n      <th>4</th>\n      <td>4</td>\n      <td>0.0</td>\n      <td>0.833333</td>\n      <td>9/5/14</td>\n      <td>237.24</td>\n      <td>29.02</td>\n      <td>31.64</td>\n      <td>29.57</td>\n      <td>30.73</td>\n      <td>29.71</td>\n      <td>...</td>\n      <td>-31.80</td>\n      <td>7.47</td>\n      <td>38.62</td>\n      <td>-5.21</td>\n      <td>54.73</td>\n      <td>-2.58</td>\n      <td>-42.30</td>\n      <td>21.91</td>\n      <td>10.95</td>\n      <td>0.0_0.8333</td>\n    </tr>\n  </tbody>\n</table>\n<p>5 rows × 247 columns</p>\n</div>"
     },
     "execution_count": 32,
     "metadata": {},
     "output_type": "execute_result"
    }
   ],
   "source": [
    "train['loc'] = train['lat'].round(4).astype('str') + '_' + train['lon'].round(4).astype('str')\n",
    "test['loc'] = test['lat'].round(4).astype('str') + '_' + test['lon'].round(4).astype('str')\n",
    "\n",
    "train.head()"
   ],
   "metadata": {
    "collapsed": false
   }
  },
  {
   "cell_type": "code",
   "execution_count": 35,
   "outputs": [],
   "source": [
    "loc_ls = pd.concat([train['loc'], test['loc']]).unique()"
   ],
   "metadata": {
    "collapsed": false
   }
  },
  {
   "cell_type": "code",
   "execution_count": 36,
   "outputs": [],
   "source": [
    "# check if there are any 'loc' in test that not in train\n",
    "\n",
    "for loc in test['loc'].unique():\n",
    "    if loc not in train['loc'].unique():\n",
    "        print(loc)"
   ],
   "metadata": {
    "collapsed": false
   }
  },
  {
   "cell_type": "code",
   "execution_count": 37,
   "outputs": [],
   "source": [
    "train = train.drop([\"index\",\"startdate\", \"contest-tmp2m-14d__tmp2m\"], axis=1)\n",
    "test = test.drop([\"index\",\"startdate\"], axis=1)"
   ],
   "metadata": {
    "collapsed": false
   }
  },
  {
   "cell_type": "code",
   "execution_count": 55,
   "outputs": [
    {
     "name": "stdout",
     "output_type": "stream",
     "text": [
      "['0.2727_0.6333']\n"
     ]
    }
   ],
   "source": [
    "score_ls = []\n",
    "loc_ls2 = []\n",
    "\n",
    "score_json = {}\n",
    "\n",
    "for _ in range(100):\n",
    "    i = np.random.randint(len(loc_ls), size=1)[0]\n",
    "    loc = loc_ls[i]\n",
    "\n",
    "    loc_train = train.groupby('loc').get_group(loc).drop(columns='loc')\n",
    "    loc_test = test.groupby('loc').get_group(loc).drop(columns='loc')\n",
    "\n",
    "    X = pd.concat([loc_train, loc_test])\n",
    "    y = [0] * len(loc_train) + [1] * len(loc_test)\n",
    "\n",
    "    lgbm_cls = LGBMClassifier()\n",
    "    cv_preds = cross_val_predict(lgbm_cls, X, y, cv=5, n_jobs=-1,\n",
    "                                 method='predict_proba')\n",
    "    y_pred = np.argmax(cv_preds, axis=1)\n",
    "    score = precision_score(y, y_pred)\n",
    "\n",
    "    score_ls.append(score)\n",
    "    loc_ls2.append(loc)\n",
    "\n",
    "    score_json[loc] = score\n",
    "\n",
    "score_ls = np.array(score_ls)\n",
    "loc_ls2 = np.array(loc_ls2)\n",
    "\n",
    "print(loc_ls2[np.where(score_ls == score_ls.min())])"
   ],
   "metadata": {
    "collapsed": false
   }
  },
  {
   "cell_type": "code",
   "execution_count": 56,
   "outputs": [
    {
     "data": {
      "text/plain": "{'0.8182_0.4333': 0.8392857142857143,\n '0.9545_0.8333': 0.3197278911564626,\n '1.0_0.3': 0.375,\n '0.5_0.8': 0.8125,\n '0.3182_0.2': 0.8095238095238095,\n '0.3182_0.4': 0.8064516129032258,\n '0.5455_0.7': 0.8064516129032258,\n '0.4091_0.9333': 0.5111111111111111,\n '0.6364_0.5667': 0.43410852713178294,\n '0.8636_0.1': 0.5204081632653061,\n '0.6364_0.2667': 0.4628099173553719,\n '0.6364_0.1': 0.6829268292682927,\n '0.2727_0.4333': 0.5656565656565656,\n '0.9091_0.3': 0.691358024691358,\n '0.3636_0.2333': 0.5454545454545454,\n '0.1818_0.9333': 0.417910447761194,\n '0.2273_0.6333': 0.43410852713178294,\n '0.2727_0.5333': 0.8125,\n '0.5_0.7': 0.4830508474576271,\n '0.8182_0.8333': 0.8095238095238095,\n '0.2727_0.8': 0.4148148148148148,\n '0.9091_0.4333': 0.5402298850574713,\n '0.5_0.3333': 0.625,\n '0.4545_0.2667': 0.6470588235294118,\n '0.6364_0.6667': 0.6630434782608695,\n '0.5455_0.4333': 0.3953488372093023,\n '0.4091_0.9': 0.5053763440860215,\n '0.6818_0.5333': 0.3146067415730337,\n '0.9545_0.0': 0.8095238095238095,\n '0.8182_0.4': 0.6619718309859155,\n '0.9091_0.7333': 0.43410852713178294,\n '0.7273_0.0667': 0.6623376623376623,\n '0.3182_0.9': 0.7887323943661971,\n '0.5909_0.4333': 0.3984375,\n '0.3182_0.4667': 0.8235294117647058,\n '0.3636_0.3333': 0.8181818181818182,\n '0.4545_0.1667': 0.408,\n '0.5909_0.9333': 0.8153846153846154,\n '0.5455_0.6': 0.43410852713178294,\n '0.9091_0.2667': 0.5257731958762887,\n '0.2273_0.7': 0.35,\n '0.1364_0.9': 0.5384615384615384,\n '0.9545_0.5333': 0.6179775280898876,\n '0.9545_0.0333': 0.8125,\n '1.0_0.1': 0.8095238095238095,\n '0.5909_0.8333': 0.8095238095238095,\n '0.9545_0.4667': 0.4330708661417323,\n '0.3182_0.6667': 0.345679012345679,\n '0.8182_0.8667': 0.8095238095238095,\n '0.3636_0.7': 0.35,\n '0.5909_0.2333': 0.3393939393939394,\n '0.2727_0.5667': 0.35,\n '0.1818_0.9667': 0.5656565656565656,\n '0.2273_0.3667': 0.43410852713178294,\n '0.8636_0.0333': 0.8095238095238095,\n '0.2727_0.6333': 0.30666666666666664,\n '0.7727_0.4667': 0.31756756756756754,\n '0.4545_0.9667': 0.4409448818897638,\n '0.4091_0.6': 0.34459459459459457,\n '0.1818_0.8': 0.31213872832369943,\n '0.2727_0.3': 0.8285714285714286,\n '0.2727_0.3333': 0.8095238095238095,\n '0.7273_0.0': 0.8095238095238095,\n '0.5_0.9667': 0.5544554455445545,\n '0.8636_0.2': 0.6710526315789473,\n '0.2273_0.5': 0.49557522123893805,\n '0.4091_0.5333': 0.5656565656565656,\n '0.7727_0.8333': 0.8095238095238095,\n '0.6364_0.3': 0.42727272727272725,\n '0.9091_0.4667': 0.4074074074074074,\n '0.5909_0.1667': 0.8245614035087719,\n '0.4545_0.1333': 0.42,\n '0.1818_0.7667': 0.43410852713178294,\n '0.2273_0.9667': 0.8181818181818182,\n '0.6818_0.2333': 0.43410852713178294,\n '0.3182_0.3': 0.8095238095238095,\n '0.3636_0.6667': 0.32075471698113206,\n '0.2273_0.8': 0.43410852713178294,\n '0.7273_0.7667': 0.8095238095238095,\n '0.6818_0.5667': 0.35,\n '0.8636_0.9': 0.8095238095238095,\n '0.8182_0.0': 0.8095238095238095,\n '0.3636_0.7667': 0.43410852713178294,\n '0.9091_0.6': 0.43410852713178294,\n '0.9091_0.2333': 0.6829268292682927,\n '0.9091_0.7667': 0.43410852713178294,\n '0.3182_0.5333': 0.35,\n '0.3182_0.2333': 0.8235294117647058,\n '0.8636_0.0667': 0.53125}"
     },
     "execution_count": 56,
     "metadata": {},
     "output_type": "execute_result"
    }
   ],
   "source": [
    "score_json"
   ],
   "metadata": {
    "collapsed": false
   }
  },
  {
   "cell_type": "code",
   "execution_count": 57,
   "outputs": [],
   "source": [
    "import json\n",
    "\n",
    "with open(\"score.json\", \"w\") as outfile:\n",
    "    json.dump(score_json, outfile)"
   ],
   "metadata": {
    "collapsed": false
   }
  },
  {
   "cell_type": "markdown",
   "source": [
    "# Feature importance"
   ],
   "metadata": {}
  },
  {
   "cell_type": "code",
   "source": [
    "X_train, X_test, y_train, y_test = train_test_split(X, y, random_state=0)"
   ],
   "metadata": {
    "execution": {
     "iopub.status.busy": "2023-01-10T07:28:18.306422Z",
     "iopub.execute_input": "2023-01-10T07:28:18.306873Z",
     "iopub.status.idle": "2023-01-10T07:28:19.621634Z",
     "shell.execute_reply.started": "2023-01-10T07:28:18.306836Z",
     "shell.execute_reply": "2023-01-10T07:28:19.620399Z"
    },
    "trusted": true
   },
   "execution_count": 17,
   "outputs": []
  },
  {
   "cell_type": "code",
   "source": [
    "gbr = GradientBoostingRegressor(\n",
    "    learning_rate=0.001,\n",
    "    n_estimators=200,\n",
    "    random_state=0\n",
    ")\n",
    "\n",
    "gbr.fit(X_train, y_train)\n",
    "\n",
    "y_pred = gbr.predict(X_test)\n",
    "\n",
    "gbr.score(X_test, y_test)"
   ],
   "metadata": {
    "execution": {
     "iopub.status.busy": "2023-01-10T07:28:35.178882Z",
     "iopub.execute_input": "2023-01-10T07:28:35.179351Z",
     "iopub.status.idle": "2023-01-10T07:44:11.292154Z",
     "shell.execute_reply.started": "2023-01-10T07:28:35.179297Z",
     "shell.execute_reply": "2023-01-10T07:44:11.290381Z"
    },
    "trusted": true
   },
   "execution_count": 18,
   "outputs": [
    {
     "data": {
      "text/plain": "0.29692197855803915"
     },
     "execution_count": 18,
     "metadata": {},
     "output_type": "execute_result"
    }
   ]
  },
  {
   "cell_type": "code",
   "execution_count": 64,
   "outputs": [
    {
     "data": {
      "text/plain": "0.9948466759051459"
     },
     "execution_count": 64,
     "metadata": {},
     "output_type": "execute_result"
    }
   ],
   "source": [
    "lgbm = LGBMRegressor(\n",
    "    n_estimators=200,\n",
    "    n_jobs=-1,\n",
    ")\n",
    "\n",
    "lgbm.fit(X_train, y_train)\n",
    "y_pred = lgbm.predict(X_test)\n",
    "lgbm.score(X_test, y_test)\n"
   ],
   "metadata": {
    "collapsed": false
   }
  },
  {
   "cell_type": "code",
   "source": [
    "importance = lgbm.feature_importances_\n",
    "feature_names = X_train.columns"
   ],
   "metadata": {},
   "execution_count": 69,
   "outputs": []
  },
  {
   "cell_type": "code",
   "execution_count": 70,
   "outputs": [],
   "source": [
    "forest_importances = pd.Series(importance, index=feature_names)\n",
    "forest_importances.sort_values(ascending=False, inplace=True)"
   ],
   "metadata": {
    "collapsed": false
   }
  },
  {
   "cell_type": "code",
   "execution_count": 71,
   "outputs": [
    {
     "data": {
      "text/plain": "<Figure size 1200x1200 with 1 Axes>",
      "image/png": "[encoded data removed]"
     },
     "metadata": {},
     "output_type": "display_data"
    }
   ],
   "source": [
    "fig, ax = plt.subplots(figsize=(12, 12))\n",
    "forest_importances[:20].plot.bar(ax=ax)\n",
    "plt.show()"
   ],
   "metadata": {
    "collapsed": false
   }
  },
  {
   "cell_type": "code",
   "execution_count": 65,
   "outputs": [
    {
     "data": {
      "text/plain": "0.7081628270334431"
     },
     "execution_count": 65,
     "metadata": {},
     "output_type": "execute_result"
    }
   ],
   "source": [
    "from sklearn.metrics import mean_squared_error\n",
    "\n",
    "mean_squared_error(y_test, y_pred, squared=False)"
   ],
   "metadata": {
    "collapsed": false
   }
  },
  {
   "cell_type": "code",
   "execution_count": null,
   "outputs": [],
   "source": [],
   "metadata": {
    "collapsed": false
   }
  }
 ]
}
