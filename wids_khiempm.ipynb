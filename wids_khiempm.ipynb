{
 "cells": [
  {
   "cell_type": "code",
   "execution_count": 47,
   "metadata": {
    "collapsed": true
   },
   "outputs": [],
   "source": [
    "from lightgbm import LGBMRegressor\n",
    "# from catboost import CatBoostRegressor\n",
    "import lightgbm\n",
    "# from boruta import BorutaPy\n",
    "import pandas as pd\n",
    "import numpy as np\n",
    "# from fastai.tabular.core import df_shrink\n",
    "from sklearn.preprocessing import MinMaxScaler, StandardScaler, OneHotEncoder, LabelEncoder\n",
    "from sklearn.preprocessing import FunctionTransformer\n",
    "from sklearn.metrics import accuracy_score, f1_score, mean_squared_error\n",
    "from sklearn.linear_model import Ridge, LinearRegression\n",
    "import time\n",
    "import matplotlib.pyplot as plt"
   ]
  },
  {
   "cell_type": "code",
   "execution_count": 48,
   "outputs": [],
   "source": [
    "path_train = \"data/train_data.csv\"\n",
    "path_test = \"data/test_data.csv\"\n",
    "target_ = \"contest-tmp2m-14d__tmp2m\""
   ],
   "metadata": {
    "collapsed": false
   }
  },
  {
   "cell_type": "code",
   "execution_count": 49,
   "outputs": [],
   "source": [
    "def sin_transformer(period):\n",
    "    return FunctionTransformer(lambda x: np.sin(x / period * 2 * np.pi))\n",
    "\n",
    "def cos_transformer(period):\n",
    "    return FunctionTransformer(lambda x: np.cos(x / period * 2 * np.pi))\n",
    "\n",
    "def handle_idx_date(df, column_date, idx_name):\n",
    "    def get_idx(lat, lon):\n",
    "        return str(round(lat, 4)) + \"_\" + str(round(lon, 4))\n",
    "    df[idx_name] = np.vectorize(get_idx)(df['lat'], df['lon'])\n",
    "    df[column_date] = pd.to_datetime(df[column_date])\n",
    "    df['day_of_year'] = df[column_date].dt.day_of_year\n",
    "    df['month'] = df[column_date].dt.month\n",
    "      # encode the day with a period of 365\n",
    "    df['day_of_year_sin'] = sin_transformer(365).fit_transform(df['day_of_year'])\n",
    "    df['day_of_year_cos'] = cos_transformer(365).fit_transform(df['day_of_year'])\n",
    "\n",
    "    # encode the month with a period of 12\n",
    "    df['month_sin'] = sin_transformer(12).fit_transform(df['month'])\n",
    "    df['month_cos'] = cos_transformer(12).fit_transform(df['month'])\n",
    "    return df\n",
    "\n",
    "def handle_feature_train_data(df, column_date=\"startdate\", columns_cat = [], idx_name=\"idx\"):\n",
    "    df = handle_idx_date(df, column_date, idx_name)\n",
    "    df = df.drop(columns = [column_date])\n",
    "    columns_cat.append(idx_name)\n",
    "    list_lbEncoder = []\n",
    "\n",
    "    for each in columns_cat:\n",
    "        lbE = LabelEncoder().fit(df[each])\n",
    "        df[each] = lbE.transform(df[each])\n",
    "        list_lbEncoder.append(lbE)\n",
    "\n",
    "    # fill nulls\n",
    "    mean_df = df.mean()\n",
    "    df = df.fillna(mean_df)\n",
    "    df[columns_cat] = df[columns_cat].astype(\"category\")\n",
    "\n",
    "    return df, list_lbEncoder, mean_df\n",
    "\n",
    "def handle_feature_test_data(df, lbEncoder, mean_df, column_date=\"startdate\", columns_cat = [], idx_name=\"idx\"):\n",
    "    df = handle_idx_date(df, column_date, idx_name)\n",
    "    df = df.drop(columns = [column_date])\n",
    "    columns_cat.append(idx_name)\n",
    "    list_lbEncoder = []\n",
    "\n",
    "    for index, each in enumerate(columns_cat):\n",
    "        df[each] = lbEncoder[index].transform(df[each])\n",
    "\n",
    "    df = df.fillna(mean_df)\n",
    "    df[columns_cat] = df[columns_cat].astype(\"category\")\n",
    "    return df"
   ],
   "metadata": {
    "collapsed": false
   }
  },
  {
   "cell_type": "code",
   "execution_count": 70,
   "outputs": [],
   "source": [
    "def calculate_corr_target(X_train, X_val):\n",
    "    data_col = []\n",
    "    data_corr_train = []\n",
    "    data_corr_val = []\n",
    "\n",
    "    for col in X_train.columns:\n",
    "        corr_train = X_train['contest-tmp2m-14d__tmp2m'].corr(X_train[col])\n",
    "        corr_val = X_val['contest-tmp2m-14d__tmp2m'].corr(X_val[col])\n",
    "\n",
    "        data_col.append(col)\n",
    "        data_corr_train.append(corr_train)\n",
    "        data_corr_val.append(corr_val)\n",
    "\n",
    "    corr = pd.DataFrame(data={'col': data_col, 'corr_train': data_corr_train, 'corr_val': data_corr_val})\n",
    "\n",
    "    return corr"
   ],
   "metadata": {
    "collapsed": false
   }
  },
  {
   "cell_type": "code",
   "execution_count": 50,
   "outputs": [],
   "source": [
    "df_train = pd.read_csv(path_train)\n",
    "df_test = pd.read_csv(path_test)\n",
    "\n",
    "date_col = \"startdate\"\n",
    "\n",
    "df_train[date_col] = pd.to_datetime(df_train[date_col])\n",
    "df_test[date_col] = pd.to_datetime(df_test[date_col])"
   ],
   "metadata": {
    "collapsed": false
   }
  },
  {
   "cell_type": "code",
   "execution_count": 51,
   "outputs": [],
   "source": [
    "corr_df = pd.read_csv(\"data/correlations_with_target.csv\").drop(columns='Unnamed: 0')\n",
    "drop_col = corr_df[\"col\"].values\n",
    "drop_col = [each for each in drop_col if \"contest\" not in each and \"wind\" not in each]"
   ],
   "metadata": {
    "collapsed": false
   }
  },
  {
   "cell_type": "code",
   "execution_count": null,
   "outputs": [
    {
     "name": "stdout",
     "output_type": "stream",
     "text": [
      "Training - 0\n",
      "Test on month 1 and 2\n"
     ]
    },
    {
     "name": "stderr",
     "output_type": "stream",
     "text": [
      "/var/folders/jl/ncw1ybbj0fs6f3mcht1ks56h0000gn/T/ipykernel_56992/863451707.py:10: SettingWithCopyWarning: \n",
      "A value is trying to be set on a copy of a slice from a DataFrame.\n",
      "Try using .loc[row_indexer,col_indexer] = value instead\n",
      "\n",
      "See the caveats in the documentation: https://pandas.pydata.org/pandas-docs/stable/user_guide/indexing.html#returning-a-view-versus-a-copy\n",
      "  df[idx_name] = np.vectorize(get_idx)(df['lat'], df['lon'])\n",
      "/var/folders/jl/ncw1ybbj0fs6f3mcht1ks56h0000gn/T/ipykernel_56992/863451707.py:11: SettingWithCopyWarning: \n",
      "A value is trying to be set on a copy of a slice from a DataFrame.\n",
      "Try using .loc[row_indexer,col_indexer] = value instead\n",
      "\n",
      "See the caveats in the documentation: https://pandas.pydata.org/pandas-docs/stable/user_guide/indexing.html#returning-a-view-versus-a-copy\n",
      "  df[column_date] = pd.to_datetime(df[column_date])\n",
      "/var/folders/jl/ncw1ybbj0fs6f3mcht1ks56h0000gn/T/ipykernel_56992/863451707.py:12: SettingWithCopyWarning: \n",
      "A value is trying to be set on a copy of a slice from a DataFrame.\n",
      "Try using .loc[row_indexer,col_indexer] = value instead\n",
      "\n",
      "See the caveats in the documentation: https://pandas.pydata.org/pandas-docs/stable/user_guide/indexing.html#returning-a-view-versus-a-copy\n",
      "  df['day_of_year'] = df[column_date].dt.day_of_year\n",
      "/var/folders/jl/ncw1ybbj0fs6f3mcht1ks56h0000gn/T/ipykernel_56992/863451707.py:13: SettingWithCopyWarning: \n",
      "A value is trying to be set on a copy of a slice from a DataFrame.\n",
      "Try using .loc[row_indexer,col_indexer] = value instead\n",
      "\n",
      "See the caveats in the documentation: https://pandas.pydata.org/pandas-docs/stable/user_guide/indexing.html#returning-a-view-versus-a-copy\n",
      "  df['month'] = df[column_date].dt.month\n",
      "/var/folders/jl/ncw1ybbj0fs6f3mcht1ks56h0000gn/T/ipykernel_56992/863451707.py:15: SettingWithCopyWarning: \n",
      "A value is trying to be set on a copy of a slice from a DataFrame.\n",
      "Try using .loc[row_indexer,col_indexer] = value instead\n",
      "\n",
      "See the caveats in the documentation: https://pandas.pydata.org/pandas-docs/stable/user_guide/indexing.html#returning-a-view-versus-a-copy\n",
      "  df['day_of_year_sin'] = sin_transformer(365).fit_transform(df['day_of_year'])\n",
      "/var/folders/jl/ncw1ybbj0fs6f3mcht1ks56h0000gn/T/ipykernel_56992/863451707.py:16: SettingWithCopyWarning: \n",
      "A value is trying to be set on a copy of a slice from a DataFrame.\n",
      "Try using .loc[row_indexer,col_indexer] = value instead\n",
      "\n",
      "See the caveats in the documentation: https://pandas.pydata.org/pandas-docs/stable/user_guide/indexing.html#returning-a-view-versus-a-copy\n",
      "  df['day_of_year_cos'] = cos_transformer(365).fit_transform(df['day_of_year'])\n",
      "/var/folders/jl/ncw1ybbj0fs6f3mcht1ks56h0000gn/T/ipykernel_56992/863451707.py:19: SettingWithCopyWarning: \n",
      "A value is trying to be set on a copy of a slice from a DataFrame.\n",
      "Try using .loc[row_indexer,col_indexer] = value instead\n",
      "\n",
      "See the caveats in the documentation: https://pandas.pydata.org/pandas-docs/stable/user_guide/indexing.html#returning-a-view-versus-a-copy\n",
      "  df['month_sin'] = sin_transformer(12).fit_transform(df['month'])\n",
      "/var/folders/jl/ncw1ybbj0fs6f3mcht1ks56h0000gn/T/ipykernel_56992/863451707.py:20: SettingWithCopyWarning: \n",
      "A value is trying to be set on a copy of a slice from a DataFrame.\n",
      "Try using .loc[row_indexer,col_indexer] = value instead\n",
      "\n",
      "See the caveats in the documentation: https://pandas.pydata.org/pandas-docs/stable/user_guide/indexing.html#returning-a-view-versus-a-copy\n",
      "  df['month_cos'] = cos_transformer(12).fit_transform(df['month'])\n",
      "/var/folders/jl/ncw1ybbj0fs6f3mcht1ks56h0000gn/T/ipykernel_56992/863451707.py:10: SettingWithCopyWarning: \n",
      "A value is trying to be set on a copy of a slice from a DataFrame.\n",
      "Try using .loc[row_indexer,col_indexer] = value instead\n",
      "\n",
      "See the caveats in the documentation: https://pandas.pydata.org/pandas-docs/stable/user_guide/indexing.html#returning-a-view-versus-a-copy\n",
      "  df[idx_name] = np.vectorize(get_idx)(df['lat'], df['lon'])\n",
      "/var/folders/jl/ncw1ybbj0fs6f3mcht1ks56h0000gn/T/ipykernel_56992/863451707.py:11: SettingWithCopyWarning: \n",
      "A value is trying to be set on a copy of a slice from a DataFrame.\n",
      "Try using .loc[row_indexer,col_indexer] = value instead\n",
      "\n",
      "See the caveats in the documentation: https://pandas.pydata.org/pandas-docs/stable/user_guide/indexing.html#returning-a-view-versus-a-copy\n",
      "  df[column_date] = pd.to_datetime(df[column_date])\n",
      "/var/folders/jl/ncw1ybbj0fs6f3mcht1ks56h0000gn/T/ipykernel_56992/863451707.py:12: SettingWithCopyWarning: \n",
      "A value is trying to be set on a copy of a slice from a DataFrame.\n",
      "Try using .loc[row_indexer,col_indexer] = value instead\n",
      "\n",
      "See the caveats in the documentation: https://pandas.pydata.org/pandas-docs/stable/user_guide/indexing.html#returning-a-view-versus-a-copy\n",
      "  df['day_of_year'] = df[column_date].dt.day_of_year\n",
      "/var/folders/jl/ncw1ybbj0fs6f3mcht1ks56h0000gn/T/ipykernel_56992/863451707.py:13: SettingWithCopyWarning: \n",
      "A value is trying to be set on a copy of a slice from a DataFrame.\n",
      "Try using .loc[row_indexer,col_indexer] = value instead\n",
      "\n",
      "See the caveats in the documentation: https://pandas.pydata.org/pandas-docs/stable/user_guide/indexing.html#returning-a-view-versus-a-copy\n",
      "  df['month'] = df[column_date].dt.month\n",
      "/var/folders/jl/ncw1ybbj0fs6f3mcht1ks56h0000gn/T/ipykernel_56992/863451707.py:15: SettingWithCopyWarning: \n",
      "A value is trying to be set on a copy of a slice from a DataFrame.\n",
      "Try using .loc[row_indexer,col_indexer] = value instead\n",
      "\n",
      "See the caveats in the documentation: https://pandas.pydata.org/pandas-docs/stable/user_guide/indexing.html#returning-a-view-versus-a-copy\n",
      "  df['day_of_year_sin'] = sin_transformer(365).fit_transform(df['day_of_year'])\n",
      "/var/folders/jl/ncw1ybbj0fs6f3mcht1ks56h0000gn/T/ipykernel_56992/863451707.py:16: SettingWithCopyWarning: \n",
      "A value is trying to be set on a copy of a slice from a DataFrame.\n",
      "Try using .loc[row_indexer,col_indexer] = value instead\n",
      "\n",
      "See the caveats in the documentation: https://pandas.pydata.org/pandas-docs/stable/user_guide/indexing.html#returning-a-view-versus-a-copy\n",
      "  df['day_of_year_cos'] = cos_transformer(365).fit_transform(df['day_of_year'])\n",
      "/var/folders/jl/ncw1ybbj0fs6f3mcht1ks56h0000gn/T/ipykernel_56992/863451707.py:19: SettingWithCopyWarning: \n",
      "A value is trying to be set on a copy of a slice from a DataFrame.\n",
      "Try using .loc[row_indexer,col_indexer] = value instead\n",
      "\n",
      "See the caveats in the documentation: https://pandas.pydata.org/pandas-docs/stable/user_guide/indexing.html#returning-a-view-versus-a-copy\n",
      "  df['month_sin'] = sin_transformer(12).fit_transform(df['month'])\n",
      "/var/folders/jl/ncw1ybbj0fs6f3mcht1ks56h0000gn/T/ipykernel_56992/863451707.py:20: SettingWithCopyWarning: \n",
      "A value is trying to be set on a copy of a slice from a DataFrame.\n",
      "Try using .loc[row_indexer,col_indexer] = value instead\n",
      "\n",
      "See the caveats in the documentation: https://pandas.pydata.org/pandas-docs/stable/user_guide/indexing.html#returning-a-view-versus-a-copy\n",
      "  df['month_cos'] = cos_transformer(12).fit_transform(df['month'])\n"
     ]
    },
    {
     "name": "stdout",
     "output_type": "stream",
     "text": [
      "1674485941.898182: Calculating correlations...\n",
      "1674485942.269355: Calculated!\n",
      "[LightGBM] [Warning] Accuracy may be bad since you didn't explicitly set num_leaves OR 2^max_depth > num_leaves. (num_leaves=31).\n",
      "[LightGBM] [Warning] Accuracy may be bad since you didn't explicitly set num_leaves OR 2^max_depth > num_leaves. (num_leaves=31).\n",
      "[LightGBM] [Warning] Auto-choosing col-wise multi-threading, the overhead of testing was 0.065019 seconds.\n",
      "You can set `force_col_wise=true` to remove the overhead.\n"
     ]
    }
   ],
   "source": [
    "dict_result = {}\n",
    "\n",
    "year_valid = [2015, 2015, 2015, 2015, 2015, 2015, 2016, 2016, 2016, 2016]\n",
    "month_valid = [1, 3, 5, 7, 9, 11, 1, 3, 5, 7]\n",
    "\n",
    "for index in range(len(year_valid)):\n",
    "    if index in dict_result:\n",
    "        continue\n",
    "    y, m_s, m_e = year_valid[index], month_valid[index], month_valid[index] + 1\n",
    "\n",
    "    print(\"Training - {}\".format(index))\n",
    "    print(f'Test on month {m_s} and {m_e}')\n",
    "\n",
    "    X_valid = df_train[(df_train[date_col].dt.year == y) & (df_train[date_col].dt.month >= m_s) & (df_train[date_col].dt.month <= m_e)]\n",
    "    X_train = df_train[~((df_train[date_col].dt.year == y) & (df_train[date_col].dt.month >= m_s) & (df_train[date_col].dt.month <= m_e))]\n",
    "\n",
    "    y_train = X_train[target_]\n",
    "    # X_train = X_train.drop(columns=target_)\n",
    "    y_valid = X_valid[target_]\n",
    "    # X_valid = X_valid.drop(columns=target_)\n",
    "\n",
    "    test_index = df_test[\"index\"].values\n",
    "    X_test = df_test.copy()\n",
    "\n",
    "    cat_cols = [i for i in X_train.select_dtypes(include='object').columns if i != date_col]\n",
    "    X_train, listEncoder, df_mean = handle_feature_train_data(X_train, date_col, cat_cols.copy())\n",
    "    X_valid = handle_feature_test_data(X_valid, listEncoder, df_mean, columns_cat=cat_cols.copy())\n",
    "    X_test = handle_feature_test_data(X_test, listEncoder, df_mean, columns_cat=cat_cols.copy())\n",
    "\n",
    "    drop_ = [*drop_col, *[\"month\", \"day_of_year\", \"day_of_year_sin\", \"day_of_year_cos\", \"month_sin\", \"month_cos\"]]\n",
    "    X_train = X_train.drop(columns=drop_)\n",
    "    X_valid = X_valid.drop(columns=drop_)\n",
    "    X_test = X_test.drop(columns=drop_)\n",
    "\n",
    "    print(f'{time.time()}: Calculating correlations...')\n",
    "    corr_with_target = calculate_corr_target(X_train, X_valid)\n",
    "    print(f'{time.time()}: Calculated!')\n",
    "\n",
    "    X_train = X_train.drop(columns=target_)\n",
    "    X_valid = X_valid.drop(columns=target_)\n",
    "\n",
    "    t = time.time()\n",
    "    lgb = LGBMRegressor(max_depth=15, n_estimators=4999, subsample=0.75, colsample_bytree=0.75, verbose=0, n_jobs=-1)\n",
    "    lgb.fit(X_train, y_train, eval_metric=\"rmse\")\n",
    "    # lgb = CatBoostRegressor(verbose=200, cat_features=[\"climateregions__climateregion\", \"idx\"])\n",
    "    # lgb.fit(X_train, y_train)\n",
    "\n",
    "    # feature importance\n",
    "    importances = lgb.feature_importances_\n",
    "    data = {'col': X_train.columns, 'imp': importances}\n",
    "    ft_imp_df = pd.DataFrame(data)\n",
    "    ft_imp_corr_df = pd.merge(ft_imp_df, corr_with_target, on='col', how='left')\n",
    "    ft_imp_corr_df.to_csv(f'result_2/ft_imp_corr_{index}.csv', index=False)\n",
    "    print(f'{time.time()}: Feature importance and correlations results are saved!')\n",
    "\n",
    "    result_train = mean_squared_error(y_train, lgb.predict(X_train), squared=False)\n",
    "    result_valid = mean_squared_error(y_valid, lgb.predict(X_valid), squared=False)\n",
    "    ypred_test = lgb.predict(X_test)\n",
    "    dict_result[index] = ypred_test\n",
    "    print(\"Take time: \", time.time() - t)\n",
    "    print(\"Train_score: {}  Valid_score: {}\".format(result_train, result_valid))\n",
    "    print(\"-------------\")"
   ],
   "metadata": {
    "collapsed": false,
    "pycharm": {
     "is_executing": true
    }
   }
  },
  {
   "cell_type": "code",
   "execution_count": 66,
   "outputs": [
    {
     "data": {
      "text/plain": "(31354, 246)"
     },
     "execution_count": 66,
     "metadata": {},
     "output_type": "execute_result"
    }
   ],
   "source": [
    "X_valid.shape"
   ],
   "metadata": {
    "collapsed": false
   }
  },
  {
   "cell_type": "code",
   "execution_count": 11,
   "outputs": [],
   "source": [
    "ypred_test = np.mean([value for key, value in dict_result.items()], axis=0)"
   ],
   "metadata": {
    "collapsed": false
   }
  },
  {
   "cell_type": "code",
   "execution_count": 12,
   "outputs": [],
   "source": [
    "# pd.DataFrame(data = {\"{}\".format(target_): ypred_test, \"index\": test_index}).to_csv(\"submit.csv\", index=False)"
   ],
   "metadata": {
    "collapsed": false
   }
  },
  {
   "cell_type": "code",
   "execution_count": 24,
   "outputs": [
    {
     "data": {
      "text/plain": "                                     col    imp\n203                                  idx  31571\n50         contest-prwtr-eatm-14d__prwtr   4824\n55   contest-wind-h500-14d__wind-hgt-500   4322\n2     contest-pevpr-sfc-gauss-14d__pevpr   4177\n36                  contest-slp-14d__slp   3701\n..                                   ...    ...\n137                          icec-2010-5    121\n98                          mjo1d__phase    107\n100                             mei__mei     65\n101                         mei__meirank     11\n102                             mei__nip      0\n\n[204 rows x 2 columns]",
      "text/html": "<div>\n<style scoped>\n    .dataframe tbody tr th:only-of-type {\n        vertical-align: middle;\n    }\n\n    .dataframe tbody tr th {\n        vertical-align: top;\n    }\n\n    .dataframe thead th {\n        text-align: right;\n    }\n</style>\n<table border=\"1\" class=\"dataframe\">\n  <thead>\n    <tr style=\"text-align: right;\">\n      <th></th>\n      <th>col</th>\n      <th>imp</th>\n    </tr>\n  </thead>\n  <tbody>\n    <tr>\n      <th>203</th>\n      <td>idx</td>\n      <td>31571</td>\n    </tr>\n    <tr>\n      <th>50</th>\n      <td>contest-prwtr-eatm-14d__prwtr</td>\n      <td>4824</td>\n    </tr>\n    <tr>\n      <th>55</th>\n      <td>contest-wind-h500-14d__wind-hgt-500</td>\n      <td>4322</td>\n    </tr>\n    <tr>\n      <th>2</th>\n      <td>contest-pevpr-sfc-gauss-14d__pevpr</td>\n      <td>4177</td>\n    </tr>\n    <tr>\n      <th>36</th>\n      <td>contest-slp-14d__slp</td>\n      <td>3701</td>\n    </tr>\n    <tr>\n      <th>...</th>\n      <td>...</td>\n      <td>...</td>\n    </tr>\n    <tr>\n      <th>137</th>\n      <td>icec-2010-5</td>\n      <td>121</td>\n    </tr>\n    <tr>\n      <th>98</th>\n      <td>mjo1d__phase</td>\n      <td>107</td>\n    </tr>\n    <tr>\n      <th>100</th>\n      <td>mei__mei</td>\n      <td>65</td>\n    </tr>\n    <tr>\n      <th>101</th>\n      <td>mei__meirank</td>\n      <td>11</td>\n    </tr>\n    <tr>\n      <th>102</th>\n      <td>mei__nip</td>\n      <td>0</td>\n    </tr>\n  </tbody>\n</table>\n<p>204 rows × 2 columns</p>\n</div>"
     },
     "execution_count": 24,
     "metadata": {},
     "output_type": "execute_result"
    }
   ],
   "source": [
    "importances = lgb.feature_importances_\n",
    "\n",
    "data = {'col': X_train.columns, 'imp': importances}\n",
    "\n",
    "ft_imp_df = pd.DataFrame(data)\n",
    "ft_imp_df.sort_values('imp', ascending=False)"
   ],
   "metadata": {
    "collapsed": false
   }
  },
  {
   "cell_type": "code",
   "execution_count": 38,
   "outputs": [],
   "source": [
    "corr_df = pd.read_csv(\"data/correlations_with_target.csv\")\n",
    "corr_df.drop(columns='Unnamed: 0', inplace=True)"
   ],
   "metadata": {
    "collapsed": false
   }
  },
  {
   "cell_type": "code",
   "execution_count": 39,
   "outputs": [
    {
     "data": {
      "text/plain": "                                    col    imp      corr\n0                                   lat    739 -0.398388\n1                                   lon    619  0.092923\n2    contest-pevpr-sfc-gauss-14d__pevpr   3973  0.805301\n3     contest-wind-h10-14d__wind-hgt-10   1398  0.763524\n4         contest-rhum-sig995-14d__rhum   1528 -0.565127\n..                                  ...    ...       ...\n199               wind-vwnd-925-2010-17    440  0.022358\n200               wind-vwnd-925-2010-18    485  0.284506\n201               wind-vwnd-925-2010-19    458 -0.072492\n202               wind-vwnd-925-2010-20    544 -0.127422\n203                                 idx  30788       NaN\n\n[204 rows x 3 columns]",
      "text/html": "<div>\n<style scoped>\n    .dataframe tbody tr th:only-of-type {\n        vertical-align: middle;\n    }\n\n    .dataframe tbody tr th {\n        vertical-align: top;\n    }\n\n    .dataframe thead th {\n        text-align: right;\n    }\n</style>\n<table border=\"1\" class=\"dataframe\">\n  <thead>\n    <tr style=\"text-align: right;\">\n      <th></th>\n      <th>col</th>\n      <th>imp</th>\n      <th>corr</th>\n    </tr>\n  </thead>\n  <tbody>\n    <tr>\n      <th>0</th>\n      <td>lat</td>\n      <td>739</td>\n      <td>-0.398388</td>\n    </tr>\n    <tr>\n      <th>1</th>\n      <td>lon</td>\n      <td>619</td>\n      <td>0.092923</td>\n    </tr>\n    <tr>\n      <th>2</th>\n      <td>contest-pevpr-sfc-gauss-14d__pevpr</td>\n      <td>3973</td>\n      <td>0.805301</td>\n    </tr>\n    <tr>\n      <th>3</th>\n      <td>contest-wind-h10-14d__wind-hgt-10</td>\n      <td>1398</td>\n      <td>0.763524</td>\n    </tr>\n    <tr>\n      <th>4</th>\n      <td>contest-rhum-sig995-14d__rhum</td>\n      <td>1528</td>\n      <td>-0.565127</td>\n    </tr>\n    <tr>\n      <th>...</th>\n      <td>...</td>\n      <td>...</td>\n      <td>...</td>\n    </tr>\n    <tr>\n      <th>199</th>\n      <td>wind-vwnd-925-2010-17</td>\n      <td>440</td>\n      <td>0.022358</td>\n    </tr>\n    <tr>\n      <th>200</th>\n      <td>wind-vwnd-925-2010-18</td>\n      <td>485</td>\n      <td>0.284506</td>\n    </tr>\n    <tr>\n      <th>201</th>\n      <td>wind-vwnd-925-2010-19</td>\n      <td>458</td>\n      <td>-0.072492</td>\n    </tr>\n    <tr>\n      <th>202</th>\n      <td>wind-vwnd-925-2010-20</td>\n      <td>544</td>\n      <td>-0.127422</td>\n    </tr>\n    <tr>\n      <th>203</th>\n      <td>idx</td>\n      <td>30788</td>\n      <td>NaN</td>\n    </tr>\n  </tbody>\n</table>\n<p>204 rows × 3 columns</p>\n</div>"
     },
     "execution_count": 39,
     "metadata": {},
     "output_type": "execute_result"
    }
   ],
   "source": [
    "pd.merge(ft_imp_df, corr_df, on='col', how='left')"
   ],
   "metadata": {
    "collapsed": false
   }
  },
  {
   "cell_type": "code",
   "execution_count": null,
   "outputs": [],
   "source": [],
   "metadata": {
    "collapsed": false,
    "pycharm": {
     "is_executing": true
    }
   }
  },
  {
   "cell_type": "code",
   "execution_count": null,
   "outputs": [],
   "source": [],
   "metadata": {
    "collapsed": false,
    "pycharm": {
     "is_executing": true
    }
   }
  },
  {
   "cell_type": "code",
   "execution_count": 35,
   "outputs": [],
   "source": [],
   "metadata": {
    "collapsed": false
   }
  }
 ],
 "metadata": {
  "kernelspec": {
   "display_name": "Python 3",
   "language": "python",
   "name": "python3"
  },
  "language_info": {
   "codemirror_mode": {
    "name": "ipython",
    "version": 2
   },
   "file_extension": ".py",
   "mimetype": "text/x-python",
   "name": "python",
   "nbconvert_exporter": "python",
   "pygments_lexer": "ipython2",
   "version": "2.7.6"
  }
 },
 "nbformat": 4,
 "nbformat_minor": 0
}
