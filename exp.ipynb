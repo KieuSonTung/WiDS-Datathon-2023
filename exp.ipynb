{
 "cells": [
  {
   "cell_type": "code",
   "execution_count": null,
   "id": "ac4d5a26-f3cc-4678-b452-6ecf18c6ae7d",
   "metadata": {
    "pycharm": {
     "is_executing": true
    }
   },
   "outputs": [],
   "source": [
    "from lightgbm import LGBMRegressor\n",
    "# from catboost import CatBoostRegressor\n",
    "import lightgbm\n",
    "# from boruta import BorutaPy\n",
    "import pandas as pd\n",
    "import numpy as np\n",
    "# from fastai.tabular.core import df_shrink\n",
    "from sklearn.preprocessing import MinMaxScaler, StandardScaler, OneHotEncoder, LabelEncoder\n",
    "from sklearn.preprocessing import FunctionTransformer\n",
    "from sklearn.metrics import accuracy_score, f1_score, mean_squared_error\n",
    "from sklearn.linear_model import Ridge, LinearRegression\n",
    "import time\n",
    "import json"
   ]
  },
  {
   "cell_type": "code",
   "execution_count": 2,
   "id": "1abf0deb-acd2-46a8-9170-9a22232a74e6",
   "metadata": {},
   "outputs": [],
   "source": [
    "path_train = \"data/train_data.csv\"\n",
    "path_test = \"data/test_data.csv\"\n",
    "target_ = \"contest-tmp2m-14d__tmp2m\""
   ]
  },
  {
   "cell_type": "code",
   "execution_count": 3,
   "id": "70e3b766-7742-4eb0-90a0-45b42c158611",
   "metadata": {},
   "outputs": [],
   "source": [
    "def sin_transformer(period):\n",
    "    return FunctionTransformer(lambda x: np.sin(x / period * 2 * np.pi))\n",
    "\n",
    "def cos_transformer(period):\n",
    "    return FunctionTransformer(lambda x: np.cos(x / period * 2 * np.pi))\n",
    "\n",
    "def handle_idx_date(df, column_date, idx_name):\n",
    "    def get_idx(lat, lon):\n",
    "        return str(round(lat, 4)) + \"_\" + str(round(lon, 4))\n",
    "    df[idx_name] = np.vectorize(get_idx)(df['lat'], df['lon'])\n",
    "    df[column_date] = pd.to_datetime(df[column_date])\n",
    "    df['day_of_year'] = df[column_date].dt.day_of_year\n",
    "    df['month'] = df[column_date].dt.month\n",
    "      # encode the day with a period of 365\n",
    "    df['day_of_year_sin'] = sin_transformer(365).fit_transform(df['day_of_year'])\n",
    "    df['day_of_year_cos'] = cos_transformer(365).fit_transform(df['day_of_year'])\n",
    "\n",
    "    # encode the month with a period of 12\n",
    "    df['month_sin'] = sin_transformer(12).fit_transform(df['month'])\n",
    "    df['month_cos'] = cos_transformer(12).fit_transform(df['month'])\n",
    "    return df\n",
    "\n",
    "def handle_feature_train_data(df, column_date=\"startdate\", columns_cat = [], idx_name=\"idx\"):\n",
    "    df = handle_idx_date(df, column_date, idx_name)\n",
    "    df = df.drop(columns = [column_date])\n",
    "    columns_cat.append(idx_name)\n",
    "    list_lbEncoder = []\n",
    "    \n",
    "    for each in columns_cat:\n",
    "        lbE = LabelEncoder().fit(df[each])\n",
    "        df[each] = lbE.transform(df[each])\n",
    "        list_lbEncoder.append(lbE)\n",
    "\n",
    "    # fill nulls\n",
    "    mean_df = df.mean()\n",
    "    df = df.fillna(mean_df)\n",
    "    df[columns_cat] = df[columns_cat].astype(\"category\")\n",
    "    \n",
    "    return df, list_lbEncoder, mean_df\n",
    "\n",
    "def handle_feature_test_data(df, lbEncoder, mean_df, column_date=\"startdate\", columns_cat = [], idx_name=\"idx\"):\n",
    "    df = handle_idx_date(df, column_date, idx_name)\n",
    "    df = df.drop(columns = [column_date])\n",
    "    columns_cat.append(idx_name)\n",
    "    list_lbEncoder = []\n",
    "    \n",
    "    for index, each in enumerate(columns_cat):\n",
    "        df[each] = lbEncoder[index].transform(df[each])\n",
    "        \n",
    "    df = df.fillna(mean_df)\n",
    "    df[columns_cat] = df[columns_cat].astype(\"category\")\n",
    "    return df"
   ]
  },
  {
   "cell_type": "code",
   "execution_count": null,
   "id": "d5b19c36-dbe3-4335-85b8-a5dfe603f555",
   "metadata": {
    "pycharm": {
     "is_executing": true
    }
   },
   "outputs": [],
   "source": [
    "df_train = pd.read_csv(path_train)\n",
    "df_test = pd.read_csv(path_test)\n",
    "date_col = \"startdate\"\n",
    "df_train[date_col] = pd.to_datetime(df_train[date_col])\n",
    "df_test[date_col] = pd.to_datetime(df_test[date_col])"
   ]
  },
  {
   "cell_type": "code",
   "execution_count": null,
   "id": "ffadc3f7-7b7b-4f7d-8c96-8b337517f3d9",
   "metadata": {
    "pycharm": {
     "is_executing": true
    }
   },
   "outputs": [],
   "source": [
    "drop_col = pd.read_csv(\"Data/correlations_with_target_greater_0.7.csv\")\n",
    "drop_col = drop_col[\"col\"].values\n",
    "drop_col = [each for each in drop_col if \"contest\" not in each and \"wind\" not in each]"
   ]
  },
  {
   "cell_type": "code",
   "execution_count": null,
   "id": "f74ac8c2-4664-4ed0-9009-e12eedf0949c",
   "metadata": {
    "pycharm": {
     "is_executing": true
    }
   },
   "outputs": [],
   "source": [
    "dict_result = {}"
   ]
  },
  {
   "cell_type": "code",
   "execution_count": null,
   "id": "c58804dc-4e50-43a3-8a04-ef3f938b9a68",
   "metadata": {},
   "outputs": [],
   "source": [
    "year_valid = [2015, 2015, 2016, 2016, 2016, 2016, 2016]\n",
    "month_valid = [9, 11, 1, 3, 5, 7]\n",
    "\n",
    "for index in range(len(year_valid)):\n",
    "    if index in dict_result:\n",
    "        continue\n",
    "    y, m_s, m_e = year_valid[index], month_valid[index], month_valid[index] + 1\n",
    "    X_valid = df_train[(df_train[date_col].dt.year == y) & (df_train[date_col].dt.month >= m_s) & (df_train[date_col].dt.month <= m_e)]\n",
    "    X_train = df_train[~((df_train[date_col].dt.year == y) & (df_train[date_col].dt.month >= m_s) & (df_train[date_col].dt.month <= m_e))]\n",
    "    \n",
    "    y_train = X_train[target_]\n",
    "    X_train = X_train.drop(columns=[\"index\", target_])\n",
    "    y_valid = X_valid[target_]\n",
    "    X_valid = X_valid.drop(columns=[\"index\", target_])\n",
    "    \n",
    "    test_index = df_test[\"index\"].values\n",
    "    X_test = df_test.drop(columns=[\"index\"]).copy()\n",
    "\n",
    "    cat_cols = [i for i in X_train.select_dtypes(include='object').columns if i != date_col]\n",
    "    X_train, X, listEncoder, df_mean = handle_feature_train_data(X_train, date_col, cat_cols.copy(), norm=\"none\")\n",
    "    X_valid = handle_feature_test_data(X_valid, listEncoder, df_mean, columns_cat=cat_cols.copy())\n",
    "    X_test = handle_feature_test_data(X_test, listEncoder, df_mean, columns_cat=cat_cols.copy())\n",
    "    \n",
    "    drop_ = [*drop_col, *[\"month\", \"day_of_year\", \"day_of_year_sin\", \"day_of_year_cos\", \"month_sin\", \"month_cos\"]]\n",
    "    X_train = X_train.drop(columns=drop_)\n",
    "    X_valid = X_valid.drop(columns=drop_)\n",
    "    X_test = X_test.drop(columns=drop_)\n",
    "    \n",
    "    print(\"Training - {}\".format(index))\n",
    "    t= time.time()\n",
    "    lgb = LGBMRegressor(max_depth = 15, n_estimators = 4999, subsample=0.75, colsample_bytree=0.75, verbose=0)\n",
    "    lgb.fit(X_train, y_train, eval_metric=\"rmse\")\n",
    "    # lgb = CatBoostRegressor(verbose=200, cat_features=[\"climateregions__climateregion\", \"idx\"])\n",
    "    # lgb.fit(X_train, y_train)\n",
    "    \n",
    "    result_train = mean_squared_error(y_train, lgb.predict(X_train), squared=False)\n",
    "    result_valid = mean_squared_error(y_valid, lgb.predict(X_valid), squared=False)\n",
    "    ypred_test = lgb.predict(X_test)\n",
    "    dict_result[index] = ypred_test\n",
    "    print(\"Take time: \", time.time() - t)\n",
    "    print(\"Train_score: {}  Valid_score: {}\".format(result_train, result_valid))\n",
    "    print(\"-------------\")"
   ]
  },
  {
   "cell_type": "code",
   "execution_count": null,
   "id": "224c1240-3b8e-4f85-8e9e-bdc48a4ece20",
   "metadata": {},
   "outputs": [],
   "source": [
    "ypred_test = np.mean([value for key, value in dict_result.items()], axis=0)"
   ]
  },
  {
   "cell_type": "code",
   "execution_count": null,
   "id": "c1574063-1bd5-483d-ae79-9e4bfd1ab434",
   "metadata": {},
   "outputs": [],
   "source": [
    "pd.DataFrame(data = {\"{}\".format(target_): ypred_test, \"index\": test_index}).to_csv(\"submit.csv\", index=False)"
   ]
  }
 ],
 "metadata": {
  "kernelspec": {
   "name": "python3",
   "language": "python",
   "display_name": "Python 3 (ipykernel)"
  },
  "language_info": {
   "codemirror_mode": {
    "name": "ipython",
    "version": 3
   },
   "file_extension": ".py",
   "mimetype": "text/x-python",
   "name": "python",
   "nbconvert_exporter": "python",
   "pygments_lexer": "ipython3",
   "version": "3.9.13"
  }
 },
 "nbformat": 4,
 "nbformat_minor": 5
}
